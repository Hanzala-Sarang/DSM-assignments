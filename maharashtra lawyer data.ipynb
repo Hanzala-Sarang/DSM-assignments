{
 "cells": [
  {
   "cell_type": "markdown",
   "id": "9c4b6886",
   "metadata": {},
   "source": [
    "## Mumbai lawyer Data"
   ]
  },
  {
   "cell_type": "markdown",
   "id": "17c124b6",
   "metadata": {},
   "source": [
    "importing all required libraries"
   ]
  },
  {
   "cell_type": "code",
   "execution_count": 16,
   "id": "eeb2b2fe",
   "metadata": {},
   "outputs": [],
   "source": [
    "import pandas as pd\n",
    "import numpy as np\n",
    "import matplotlib.pyplot as plt\n",
    "import seaborn as sns\n",
    "%matplotlib inline \n",
    "import warnings\n",
    "warnings.filterwarnings('ignore')"
   ]
  },
  {
   "cell_type": "markdown",
   "id": "d69c2b00",
   "metadata": {},
   "source": [
    "importing dataset"
   ]
  },
  {
   "cell_type": "code",
   "execution_count": 17,
   "id": "41c9b50d",
   "metadata": {},
   "outputs": [],
   "source": [
    "df = pd.read_csv(r'lawyer_data.csv', encoding='ISO-8859-1')"
   ]
  },
  {
   "cell_type": "code",
   "execution_count": 18,
   "id": "b1c3dca5",
   "metadata": {},
   "outputs": [
    {
     "data": {
      "text/html": [
       "<div>\n",
       "<style scoped>\n",
       "    .dataframe tbody tr th:only-of-type {\n",
       "        vertical-align: middle;\n",
       "    }\n",
       "\n",
       "    .dataframe tbody tr th {\n",
       "        vertical-align: top;\n",
       "    }\n",
       "\n",
       "    .dataframe thead th {\n",
       "        text-align: right;\n",
       "    }\n",
       "</style>\n",
       "<table border=\"1\" class=\"dataframe\">\n",
       "  <thead>\n",
       "    <tr style=\"text-align: right;\">\n",
       "      <th></th>\n",
       "      <th>Name</th>\n",
       "      <th>Address</th>\n",
       "      <th>Serial Number</th>\n",
       "      <th>Enrollment Number</th>\n",
       "      <th>Enrollment Date</th>\n",
       "      <th>Gender</th>\n",
       "    </tr>\n",
       "  </thead>\n",
       "  <tbody>\n",
       "    <tr>\n",
       "      <th>0</th>\n",
       "      <td>AGRAWAL JYOTI MOHANLAL</td>\n",
       "      <td>JYOTI LODGE KHOLGALLI DHULE-424001</td>\n",
       "      <td>37652</td>\n",
       "      <td>MAH/1385/1991</td>\n",
       "      <td>8-21-1991</td>\n",
       "      <td>Female</td>\n",
       "    </tr>\n",
       "    <tr>\n",
       "      <th>1</th>\n",
       "      <td>AGRAWAL MAMATA ASHOKUMAR</td>\n",
       "      <td>NEW PLOT'S, MAHARANA PRATAP CHOWK,</td>\n",
       "      <td>35439</td>\n",
       "      <td>MAH/1222/1990</td>\n",
       "      <td>8-21-1990</td>\n",
       "      <td>Female</td>\n",
       "    </tr>\n",
       "    <tr>\n",
       "      <th>2</th>\n",
       "      <td>ALI SHAMINA MOHEMMED</td>\n",
       "      <td>SEWA SADAN BLDG BLOCK NO 111 CENTRAL AVENUE</td>\n",
       "      <td>24184</td>\n",
       "      <td>MAH/499/1984</td>\n",
       "      <td>3-31-1984</td>\n",
       "      <td>Female</td>\n",
       "    </tr>\n",
       "    <tr>\n",
       "      <th>3</th>\n",
       "      <td>ALKUNTE KAVITA RAMCHANDRA</td>\n",
       "      <td>A-102 ASHTI APARTMENT MODI BAUG GANESHKHIND RO...</td>\n",
       "      <td>37180</td>\n",
       "      <td>MAH/914/1991</td>\n",
       "      <td>07-11-1991</td>\n",
       "      <td>Female</td>\n",
       "    </tr>\n",
       "    <tr>\n",
       "      <th>4</th>\n",
       "      <td>ALSHI SUNANDA MAHADEORAO</td>\n",
       "      <td>2/3 VIDARBHA HSG BOARD COLONY KANCHIPURA NEW R...</td>\n",
       "      <td>24022</td>\n",
       "      <td>MAH/338/1984</td>\n",
       "      <td>2-20-1984</td>\n",
       "      <td>Female</td>\n",
       "    </tr>\n",
       "    <tr>\n",
       "      <th>...</th>\n",
       "      <td>...</td>\n",
       "      <td>...</td>\n",
       "      <td>...</td>\n",
       "      <td>...</td>\n",
       "      <td>...</td>\n",
       "      <td>...</td>\n",
       "    </tr>\n",
       "    <tr>\n",
       "      <th>115724</th>\n",
       "      <td>PUROHIT RAHUL KAMALKISHOR</td>\n",
       "      <td>MAIN ROAD BALU CHOWK WASHIM DT WASHIM-444505</td>\n",
       "      <td>83334</td>\n",
       "      <td>MAH/3814/2005</td>\n",
       "      <td>8/26/2005</td>\n",
       "      <td>Male</td>\n",
       "    </tr>\n",
       "    <tr>\n",
       "      <th>115725</th>\n",
       "      <td>RAUT KERBA RAMRAO</td>\n",
       "      <td>BONCHINCHILI TQ HADGAON, DIST NANDED 431712</td>\n",
       "      <td>87948</td>\n",
       "      <td>MAH/2771/2006</td>\n",
       "      <td>7/29/2006</td>\n",
       "      <td>Male</td>\n",
       "    </tr>\n",
       "    <tr>\n",
       "      <th>115726</th>\n",
       "      <td>SABALE PRADHAN BHANUDAS</td>\n",
       "      <td>SUJATA NAGAR, OLD PEDGAON ROAD, PARBHANI-431401</td>\n",
       "      <td>77295</td>\n",
       "      <td>MAH/2736/2004</td>\n",
       "      <td>7/30/2004</td>\n",
       "      <td>Male</td>\n",
       "    </tr>\n",
       "    <tr>\n",
       "      <th>115727</th>\n",
       "      <td>SURYAWANSHI SITARAM DHUDKU</td>\n",
       "      <td>23A RADHAWALLABH SOCIETY INDIRA NAGAR NASIK-42...</td>\n",
       "      <td>86946</td>\n",
       "      <td>MAH/1769/2006</td>\n",
       "      <td>07-07-2006</td>\n",
       "      <td>Male</td>\n",
       "    </tr>\n",
       "    <tr>\n",
       "      <th>115728</th>\n",
       "      <td>VARGHESE JOB GEORGE</td>\n",
       "      <td>S/O T V GEORGE SAMBHAJI NAGAR NR SHARADHA SANG...</td>\n",
       "      <td>87395</td>\n",
       "      <td>MAH/2218/2006</td>\n",
       "      <td>7/15/2006</td>\n",
       "      <td>Male</td>\n",
       "    </tr>\n",
       "  </tbody>\n",
       "</table>\n",
       "<p>115729 rows × 6 columns</p>\n",
       "</div>"
      ],
      "text/plain": [
       "                              Name  \\\n",
       "0           AGRAWAL JYOTI MOHANLAL   \n",
       "1         AGRAWAL MAMATA ASHOKUMAR   \n",
       "2             ALI SHAMINA MOHEMMED   \n",
       "3        ALKUNTE KAVITA RAMCHANDRA   \n",
       "4         ALSHI SUNANDA MAHADEORAO   \n",
       "...                            ...   \n",
       "115724   PUROHIT RAHUL KAMALKISHOR   \n",
       "115725           RAUT KERBA RAMRAO   \n",
       "115726     SABALE PRADHAN BHANUDAS   \n",
       "115727  SURYAWANSHI SITARAM DHUDKU   \n",
       "115728         VARGHESE JOB GEORGE   \n",
       "\n",
       "                                                  Address  Serial Number  \\\n",
       "0                      JYOTI LODGE KHOLGALLI DHULE-424001          37652   \n",
       "1                      NEW PLOT'S, MAHARANA PRATAP CHOWK,          35439   \n",
       "2             SEWA SADAN BLDG BLOCK NO 111 CENTRAL AVENUE          24184   \n",
       "3       A-102 ASHTI APARTMENT MODI BAUG GANESHKHIND RO...          37180   \n",
       "4       2/3 VIDARBHA HSG BOARD COLONY KANCHIPURA NEW R...          24022   \n",
       "...                                                   ...            ...   \n",
       "115724       MAIN ROAD BALU CHOWK WASHIM DT WASHIM-444505          83334   \n",
       "115725        BONCHINCHILI TQ HADGAON, DIST NANDED 431712          87948   \n",
       "115726    SUJATA NAGAR, OLD PEDGAON ROAD, PARBHANI-431401          77295   \n",
       "115727  23A RADHAWALLABH SOCIETY INDIRA NAGAR NASIK-42...          86946   \n",
       "115728  S/O T V GEORGE SAMBHAJI NAGAR NR SHARADHA SANG...          87395   \n",
       "\n",
       "       Enrollment Number Enrollment Date  Gender  \n",
       "0          MAH/1385/1991       8-21-1991  Female  \n",
       "1          MAH/1222/1990       8-21-1990  Female  \n",
       "2           MAH/499/1984       3-31-1984  Female  \n",
       "3           MAH/914/1991      07-11-1991  Female  \n",
       "4           MAH/338/1984       2-20-1984  Female  \n",
       "...                  ...             ...     ...  \n",
       "115724     MAH/3814/2005       8/26/2005    Male  \n",
       "115725     MAH/2771/2006       7/29/2006    Male  \n",
       "115726     MAH/2736/2004       7/30/2004    Male  \n",
       "115727     MAH/1769/2006      07-07-2006    Male  \n",
       "115728     MAH/2218/2006       7/15/2006    Male  \n",
       "\n",
       "[115729 rows x 6 columns]"
      ]
     },
     "execution_count": 18,
     "metadata": {},
     "output_type": "execute_result"
    }
   ],
   "source": [
    "df"
   ]
  },
  {
   "cell_type": "markdown",
   "id": "23dd186d",
   "metadata": {},
   "source": [
    "### Data Cleaning"
   ]
  },
  {
   "cell_type": "code",
   "execution_count": 29,
   "id": "9b473619",
   "metadata": {},
   "outputs": [
    {
     "data": {
      "text/plain": [
       "(115692, 6)"
      ]
     },
     "execution_count": 29,
     "metadata": {},
     "output_type": "execute_result"
    }
   ],
   "source": [
    "df.shape"
   ]
  },
  {
   "cell_type": "code",
   "execution_count": 20,
   "id": "e2d4c1b5",
   "metadata": {},
   "outputs": [
    {
     "name": "stdout",
     "output_type": "stream",
     "text": [
      "<class 'pandas.core.frame.DataFrame'>\n",
      "RangeIndex: 115729 entries, 0 to 115728\n",
      "Data columns (total 6 columns):\n",
      " #   Column             Non-Null Count   Dtype \n",
      "---  ------             --------------   ----- \n",
      " 0   Name               115729 non-null  object\n",
      " 1   Address            115714 non-null  object\n",
      " 2   Serial Number      115729 non-null  int64 \n",
      " 3   Enrollment Number  115729 non-null  object\n",
      " 4   Enrollment Date    115707 non-null  object\n",
      " 5   Gender             115729 non-null  object\n",
      "dtypes: int64(1), object(5)\n",
      "memory usage: 5.3+ MB\n"
     ]
    }
   ],
   "source": [
    "df.info()"
   ]
  },
  {
   "cell_type": "code",
   "execution_count": 21,
   "id": "177b9139",
   "metadata": {},
   "outputs": [
    {
     "data": {
      "text/plain": [
       "Name                  0\n",
       "Address              15\n",
       "Serial Number         0\n",
       "Enrollment Number     0\n",
       "Enrollment Date      22\n",
       "Gender                0\n",
       "dtype: int64"
      ]
     },
     "execution_count": 21,
     "metadata": {},
     "output_type": "execute_result"
    }
   ],
   "source": [
    "df.isnull().sum()"
   ]
  },
  {
   "cell_type": "markdown",
   "id": "bcca5b11",
   "metadata": {},
   "source": [
    "deleting the null values"
   ]
  },
  {
   "cell_type": "code",
   "execution_count": 58,
   "id": "fa4c26f1",
   "metadata": {},
   "outputs": [],
   "source": [
    "df.dropna(inplace=True)"
   ]
  },
  {
   "cell_type": "markdown",
   "id": "8722ee12",
   "metadata": {},
   "source": [
    "deleting index column"
   ]
  },
  {
   "cell_type": "markdown",
   "id": "2b0e754f",
   "metadata": {},
   "source": [
    "Checking duplicate values"
   ]
  },
  {
   "cell_type": "code",
   "execution_count": 31,
   "id": "05d349e3",
   "metadata": {},
   "outputs": [
    {
     "data": {
      "text/html": [
       "<div>\n",
       "<style scoped>\n",
       "    .dataframe tbody tr th:only-of-type {\n",
       "        vertical-align: middle;\n",
       "    }\n",
       "\n",
       "    .dataframe tbody tr th {\n",
       "        vertical-align: top;\n",
       "    }\n",
       "\n",
       "    .dataframe thead th {\n",
       "        text-align: right;\n",
       "    }\n",
       "</style>\n",
       "<table border=\"1\" class=\"dataframe\">\n",
       "  <thead>\n",
       "    <tr style=\"text-align: right;\">\n",
       "      <th></th>\n",
       "      <th>Name</th>\n",
       "      <th>Address</th>\n",
       "      <th>Serial Number</th>\n",
       "      <th>Enrollment Number</th>\n",
       "      <th>Enrollment Date</th>\n",
       "      <th>Gender</th>\n",
       "    </tr>\n",
       "  </thead>\n",
       "  <tbody>\n",
       "  </tbody>\n",
       "</table>\n",
       "</div>"
      ],
      "text/plain": [
       "Empty DataFrame\n",
       "Columns: [Name, Address, Serial Number, Enrollment Number, Enrollment Date, Gender]\n",
       "Index: []"
      ]
     },
     "execution_count": 31,
     "metadata": {},
     "output_type": "execute_result"
    }
   ],
   "source": [
    "df[df.duplicated()]"
   ]
  },
  {
   "cell_type": "markdown",
   "id": "401be27f",
   "metadata": {},
   "source": [
    "There is no duplicate values in the dataset "
   ]
  },
  {
   "cell_type": "markdown",
   "id": "b4b70c76",
   "metadata": {},
   "source": [
    "### Extracting only mumbai lawyers Data"
   ]
  },
  {
   "cell_type": "code",
   "execution_count": null,
   "id": "65c00ded",
   "metadata": {},
   "outputs": [],
   "source": [
    "mumbai_data = df[df['Address'].str.contains('MUMBAI')]"
   ]
  },
  {
   "cell_type": "code",
   "execution_count": 25,
   "id": "180a2606",
   "metadata": {},
   "outputs": [
    {
     "data": {
      "text/html": [
       "<div>\n",
       "<style scoped>\n",
       "    .dataframe tbody tr th:only-of-type {\n",
       "        vertical-align: middle;\n",
       "    }\n",
       "\n",
       "    .dataframe tbody tr th {\n",
       "        vertical-align: top;\n",
       "    }\n",
       "\n",
       "    .dataframe thead th {\n",
       "        text-align: right;\n",
       "    }\n",
       "</style>\n",
       "<table border=\"1\" class=\"dataframe\">\n",
       "  <thead>\n",
       "    <tr style=\"text-align: right;\">\n",
       "      <th></th>\n",
       "      <th>index</th>\n",
       "      <th>Name</th>\n",
       "      <th>Address</th>\n",
       "      <th>Serial Number</th>\n",
       "      <th>Enrollment Number</th>\n",
       "      <th>Enrollment Date</th>\n",
       "      <th>Gender</th>\n",
       "    </tr>\n",
       "  </thead>\n",
       "  <tbody>\n",
       "    <tr>\n",
       "      <th>0</th>\n",
       "      <td>6</td>\n",
       "      <td>ANSARI ISHRAT ISA</td>\n",
       "      <td>202/3-A NAV AASAWARI J B NAGAR ANDHERI E MUMBA...</td>\n",
       "      <td>61260</td>\n",
       "      <td>MAH/2206/2000</td>\n",
       "      <td>8-29-2000</td>\n",
       "      <td>Female</td>\n",
       "    </tr>\n",
       "    <tr>\n",
       "      <th>1</th>\n",
       "      <td>10</td>\n",
       "      <td>ARORA SUSHMA J</td>\n",
       "      <td>B-17 CENTRAL GOVT OFFICERS FLATS HYDERABAD EST...</td>\n",
       "      <td>37098</td>\n",
       "      <td>MAH/832/1991</td>\n",
       "      <td>07-11-1991</td>\n",
       "      <td>Female</td>\n",
       "    </tr>\n",
       "    <tr>\n",
       "      <th>2</th>\n",
       "      <td>16</td>\n",
       "      <td>BAFNA PRAKRUTI PRITHVIRAJ</td>\n",
       "      <td>A/2 DARIYA MAHAL 80 NEPEAN SEA ROAD MUMBAI-400006</td>\n",
       "      <td>59271</td>\n",
       "      <td>MAH/242/2000</td>\n",
       "      <td>1-27-2000</td>\n",
       "      <td>Female</td>\n",
       "    </tr>\n",
       "    <tr>\n",
       "      <th>3</th>\n",
       "      <td>18</td>\n",
       "      <td>BAKSHI PUJA UDAY</td>\n",
       "      <td>7-B SUNSET HEIGHTS 59 PALI HILL BANDRA WEST MU...</td>\n",
       "      <td>57430</td>\n",
       "      <td>MAH/4241/1999</td>\n",
       "      <td>7-22-1999</td>\n",
       "      <td>Female</td>\n",
       "    </tr>\n",
       "    <tr>\n",
       "      <th>4</th>\n",
       "      <td>22</td>\n",
       "      <td>BANGERA SANJEEVA SHANKAR</td>\n",
       "      <td>26/38 SWATANTRYA SAINIK NAGAR CO-OP HSG SOC LT...</td>\n",
       "      <td>37592</td>\n",
       "      <td>MAH/1325/1991</td>\n",
       "      <td>8-21-1991</td>\n",
       "      <td>Female</td>\n",
       "    </tr>\n",
       "    <tr>\n",
       "      <th>...</th>\n",
       "      <td>...</td>\n",
       "      <td>...</td>\n",
       "      <td>...</td>\n",
       "      <td>...</td>\n",
       "      <td>...</td>\n",
       "      <td>...</td>\n",
       "      <td>...</td>\n",
       "    </tr>\n",
       "    <tr>\n",
       "      <th>17659</th>\n",
       "      <td>115652</td>\n",
       "      <td>ZIRPE BHAGWAN EKNATH</td>\n",
       "      <td>1:5, E-15, APPOLO CHS, SECTOR-25, JUINAGAR, NA...</td>\n",
       "      <td>120759</td>\n",
       "      <td>MAH/727/2011</td>\n",
       "      <td>3/28/2011</td>\n",
       "      <td>Male</td>\n",
       "    </tr>\n",
       "    <tr>\n",
       "      <th>17660</th>\n",
       "      <td>115658</td>\n",
       "      <td>ZODAGE AVINASH NANASAHEB</td>\n",
       "      <td>VAISHALI NAGAR, B-7/201, S.V.ROAD, JOGESHWARI ...</td>\n",
       "      <td>56715</td>\n",
       "      <td>MAH/3526/1999</td>\n",
       "      <td>6/24/1999</td>\n",
       "      <td>Male</td>\n",
       "    </tr>\n",
       "    <tr>\n",
       "      <th>17661</th>\n",
       "      <td>115659</td>\n",
       "      <td>ZODAGE NANASAHEB SANTU</td>\n",
       "      <td>VAISHALI NAGAR B7(20) BEHIND RAMSHYAM TALKIES ...</td>\n",
       "      <td>23854</td>\n",
       "      <td>MAH/171/1984</td>\n",
       "      <td>1/18/1984</td>\n",
       "      <td>Male</td>\n",
       "    </tr>\n",
       "    <tr>\n",
       "      <th>17662</th>\n",
       "      <td>115696</td>\n",
       "      <td>ZULFIQUAR MAJEED MEMON</td>\n",
       "      <td>71 AASHIYANA 1ST ROAD ALMEIDA PARK OPPOSITE ST...</td>\n",
       "      <td>84053</td>\n",
       "      <td>MAH/4533/2005</td>\n",
       "      <td>9/23/2005</td>\n",
       "      <td>Male</td>\n",
       "    </tr>\n",
       "    <tr>\n",
       "      <th>17663</th>\n",
       "      <td>115706</td>\n",
       "      <td>ZUNJARRAO VIKRANT SHRIDHAR</td>\n",
       "      <td>806, TOWER 1/A DHEERAJ ENCLAVE OPP BHOR INDUST...</td>\n",
       "      <td>100986</td>\n",
       "      <td>MAH/2576/2008</td>\n",
       "      <td>7/18/2008</td>\n",
       "      <td>Male</td>\n",
       "    </tr>\n",
       "  </tbody>\n",
       "</table>\n",
       "<p>17664 rows × 7 columns</p>\n",
       "</div>"
      ],
      "text/plain": [
       "        index                        Name  \\\n",
       "0           6           ANSARI ISHRAT ISA   \n",
       "1          10              ARORA SUSHMA J   \n",
       "2          16   BAFNA PRAKRUTI PRITHVIRAJ   \n",
       "3          18            BAKSHI PUJA UDAY   \n",
       "4          22    BANGERA SANJEEVA SHANKAR   \n",
       "...       ...                         ...   \n",
       "17659  115652        ZIRPE BHAGWAN EKNATH   \n",
       "17660  115658    ZODAGE AVINASH NANASAHEB   \n",
       "17661  115659      ZODAGE NANASAHEB SANTU   \n",
       "17662  115696      ZULFIQUAR MAJEED MEMON   \n",
       "17663  115706  ZUNJARRAO VIKRANT SHRIDHAR   \n",
       "\n",
       "                                                 Address  Serial Number  \\\n",
       "0      202/3-A NAV AASAWARI J B NAGAR ANDHERI E MUMBA...          61260   \n",
       "1      B-17 CENTRAL GOVT OFFICERS FLATS HYDERABAD EST...          37098   \n",
       "2      A/2 DARIYA MAHAL 80 NEPEAN SEA ROAD MUMBAI-400006          59271   \n",
       "3      7-B SUNSET HEIGHTS 59 PALI HILL BANDRA WEST MU...          57430   \n",
       "4      26/38 SWATANTRYA SAINIK NAGAR CO-OP HSG SOC LT...          37592   \n",
       "...                                                  ...            ...   \n",
       "17659  1:5, E-15, APPOLO CHS, SECTOR-25, JUINAGAR, NA...         120759   \n",
       "17660  VAISHALI NAGAR, B-7/201, S.V.ROAD, JOGESHWARI ...          56715   \n",
       "17661  VAISHALI NAGAR B7(20) BEHIND RAMSHYAM TALKIES ...          23854   \n",
       "17662  71 AASHIYANA 1ST ROAD ALMEIDA PARK OPPOSITE ST...          84053   \n",
       "17663  806, TOWER 1/A DHEERAJ ENCLAVE OPP BHOR INDUST...         100986   \n",
       "\n",
       "      Enrollment Number Enrollment Date  Gender  \n",
       "0         MAH/2206/2000       8-29-2000  Female  \n",
       "1          MAH/832/1991      07-11-1991  Female  \n",
       "2          MAH/242/2000       1-27-2000  Female  \n",
       "3         MAH/4241/1999       7-22-1999  Female  \n",
       "4         MAH/1325/1991       8-21-1991  Female  \n",
       "...                 ...             ...     ...  \n",
       "17659      MAH/727/2011       3/28/2011    Male  \n",
       "17660     MAH/3526/1999       6/24/1999    Male  \n",
       "17661      MAH/171/1984       1/18/1984    Male  \n",
       "17662     MAH/4533/2005       9/23/2005    Male  \n",
       "17663     MAH/2576/2008       7/18/2008    Male  \n",
       "\n",
       "[17664 rows x 7 columns]"
      ]
     },
     "execution_count": 25,
     "metadata": {},
     "output_type": "execute_result"
    }
   ],
   "source": [
    "mumbai_data.reset_index()"
   ]
  },
  {
   "cell_type": "code",
   "execution_count": 34,
   "id": "3a114a75",
   "metadata": {},
   "outputs": [
    {
     "name": "stdout",
     "output_type": "stream",
     "text": [
      "<class 'pandas.core.frame.DataFrame'>\n",
      "Int64Index: 17664 entries, 6 to 115706\n",
      "Data columns (total 6 columns):\n",
      " #   Column             Non-Null Count  Dtype         \n",
      "---  ------             --------------  -----         \n",
      " 0   Name               17664 non-null  object        \n",
      " 1   Address            17664 non-null  object        \n",
      " 2   Serial Number      17664 non-null  int64         \n",
      " 3   Enrollment Number  17664 non-null  object        \n",
      " 4   Enrollment Date    17664 non-null  datetime64[ns]\n",
      " 5   Gender             17664 non-null  object        \n",
      "dtypes: datetime64[ns](1), int64(1), object(4)\n",
      "memory usage: 966.0+ KB\n"
     ]
    }
   ],
   "source": [
    "mumbai_data.info()"
   ]
  },
  {
   "cell_type": "markdown",
   "id": "ddcba29e",
   "metadata": {},
   "source": [
    "converting date column into date time"
   ]
  },
  {
   "cell_type": "code",
   "execution_count": 35,
   "id": "d8340ceb",
   "metadata": {},
   "outputs": [],
   "source": [
    "mumbai_data['Enrollment Date'] = pd.to_datetime(mumbai_data['Enrollment Date'])"
   ]
  },
  {
   "cell_type": "markdown",
   "id": "3fa68773",
   "metadata": {},
   "source": [
    "### Extracting Only Female lawyers in Mumbai"
   ]
  },
  {
   "cell_type": "code",
   "execution_count": 38,
   "id": "b1e6ae47",
   "metadata": {},
   "outputs": [],
   "source": [
    "mumbai_lawyer_female = mumbai_data[mumbai_data['Gender'] == 'Female']"
   ]
  },
  {
   "cell_type": "code",
   "execution_count": 39,
   "id": "0e77554a",
   "metadata": {},
   "outputs": [],
   "source": [
    "mumbai_lawyer_female = mumbai_lawyer_female.reset_index()"
   ]
  },
  {
   "cell_type": "code",
   "execution_count": 55,
   "id": "cd2f3b6a",
   "metadata": {},
   "outputs": [
    {
     "data": {
      "text/html": [
       "<div>\n",
       "<style scoped>\n",
       "    .dataframe tbody tr th:only-of-type {\n",
       "        vertical-align: middle;\n",
       "    }\n",
       "\n",
       "    .dataframe tbody tr th {\n",
       "        vertical-align: top;\n",
       "    }\n",
       "\n",
       "    .dataframe thead th {\n",
       "        text-align: right;\n",
       "    }\n",
       "</style>\n",
       "<table border=\"1\" class=\"dataframe\">\n",
       "  <thead>\n",
       "    <tr style=\"text-align: right;\">\n",
       "      <th></th>\n",
       "      <th>index</th>\n",
       "      <th>Name</th>\n",
       "      <th>Address</th>\n",
       "      <th>Serial Number</th>\n",
       "      <th>Enrollment Number</th>\n",
       "      <th>Enrollment Date</th>\n",
       "      <th>Gender</th>\n",
       "    </tr>\n",
       "  </thead>\n",
       "  <tbody>\n",
       "    <tr>\n",
       "      <th>0</th>\n",
       "      <td>6</td>\n",
       "      <td>ANSARI ISHRAT ISA</td>\n",
       "      <td>202/3-A NAV AASAWARI J B NAGAR ANDHERI E MUMBA...</td>\n",
       "      <td>61260</td>\n",
       "      <td>MAH/2206/2000</td>\n",
       "      <td>2000-08-29</td>\n",
       "      <td>Female</td>\n",
       "    </tr>\n",
       "    <tr>\n",
       "      <th>1</th>\n",
       "      <td>10</td>\n",
       "      <td>ARORA SUSHMA J</td>\n",
       "      <td>B-17 CENTRAL GOVT OFFICERS FLATS HYDERABAD EST...</td>\n",
       "      <td>37098</td>\n",
       "      <td>MAH/832/1991</td>\n",
       "      <td>1991-07-11</td>\n",
       "      <td>Female</td>\n",
       "    </tr>\n",
       "    <tr>\n",
       "      <th>2</th>\n",
       "      <td>16</td>\n",
       "      <td>BAFNA PRAKRUTI PRITHVIRAJ</td>\n",
       "      <td>A/2 DARIYA MAHAL 80 NEPEAN SEA ROAD MUMBAI-400006</td>\n",
       "      <td>59271</td>\n",
       "      <td>MAH/242/2000</td>\n",
       "      <td>2000-01-27</td>\n",
       "      <td>Female</td>\n",
       "    </tr>\n",
       "    <tr>\n",
       "      <th>3</th>\n",
       "      <td>18</td>\n",
       "      <td>BAKSHI PUJA UDAY</td>\n",
       "      <td>7-B SUNSET HEIGHTS 59 PALI HILL BANDRA WEST MU...</td>\n",
       "      <td>57430</td>\n",
       "      <td>MAH/4241/1999</td>\n",
       "      <td>1999-07-22</td>\n",
       "      <td>Female</td>\n",
       "    </tr>\n",
       "    <tr>\n",
       "      <th>4</th>\n",
       "      <td>22</td>\n",
       "      <td>BANGERA SANJEEVA SHANKAR</td>\n",
       "      <td>26/38 SWATANTRYA SAINIK NAGAR CO-OP HSG SOC LT...</td>\n",
       "      <td>37592</td>\n",
       "      <td>MAH/1325/1991</td>\n",
       "      <td>1991-08-21</td>\n",
       "      <td>Female</td>\n",
       "    </tr>\n",
       "  </tbody>\n",
       "</table>\n",
       "</div>"
      ],
      "text/plain": [
       "   index                       Name  \\\n",
       "0      6          ANSARI ISHRAT ISA   \n",
       "1     10             ARORA SUSHMA J   \n",
       "2     16  BAFNA PRAKRUTI PRITHVIRAJ   \n",
       "3     18           BAKSHI PUJA UDAY   \n",
       "4     22   BANGERA SANJEEVA SHANKAR   \n",
       "\n",
       "                                             Address  Serial Number  \\\n",
       "0  202/3-A NAV AASAWARI J B NAGAR ANDHERI E MUMBA...          61260   \n",
       "1  B-17 CENTRAL GOVT OFFICERS FLATS HYDERABAD EST...          37098   \n",
       "2  A/2 DARIYA MAHAL 80 NEPEAN SEA ROAD MUMBAI-400006          59271   \n",
       "3  7-B SUNSET HEIGHTS 59 PALI HILL BANDRA WEST MU...          57430   \n",
       "4  26/38 SWATANTRYA SAINIK NAGAR CO-OP HSG SOC LT...          37592   \n",
       "\n",
       "  Enrollment Number Enrollment Date  Gender  \n",
       "0     MAH/2206/2000      2000-08-29  Female  \n",
       "1      MAH/832/1991      1991-07-11  Female  \n",
       "2      MAH/242/2000      2000-01-27  Female  \n",
       "3     MAH/4241/1999      1999-07-22  Female  \n",
       "4     MAH/1325/1991      1991-08-21  Female  "
      ]
     },
     "execution_count": 55,
     "metadata": {},
     "output_type": "execute_result"
    }
   ],
   "source": [
    "mumbai_lawyer_female.head()"
   ]
  },
  {
   "cell_type": "code",
   "execution_count": 66,
   "id": "4206cf1a",
   "metadata": {},
   "outputs": [
    {
     "data": {
      "text/plain": [
       "(7190, 7)"
      ]
     },
     "execution_count": 66,
     "metadata": {},
     "output_type": "execute_result"
    }
   ],
   "source": [
    "mumbai_lawyer_female.shape"
   ]
  },
  {
   "cell_type": "markdown",
   "id": "309d7759",
   "metadata": {},
   "source": [
    "### Extracting Only Male lawyers in Mumbai"
   ]
  },
  {
   "cell_type": "code",
   "execution_count": 42,
   "id": "996b9bbb",
   "metadata": {},
   "outputs": [],
   "source": [
    "mumbai_lawyer_male = mumbai_data[mumbai_data['Gender'] == 'Male']"
   ]
  },
  {
   "cell_type": "code",
   "execution_count": 43,
   "id": "ce8be194",
   "metadata": {},
   "outputs": [],
   "source": [
    "mumbai_lawyer_male = mumbai_lawyer_male.reset_index()"
   ]
  },
  {
   "cell_type": "code",
   "execution_count": 53,
   "id": "c9eba389",
   "metadata": {},
   "outputs": [
    {
     "data": {
      "text/html": [
       "<div>\n",
       "<style scoped>\n",
       "    .dataframe tbody tr th:only-of-type {\n",
       "        vertical-align: middle;\n",
       "    }\n",
       "\n",
       "    .dataframe tbody tr th {\n",
       "        vertical-align: top;\n",
       "    }\n",
       "\n",
       "    .dataframe thead th {\n",
       "        text-align: right;\n",
       "    }\n",
       "</style>\n",
       "<table border=\"1\" class=\"dataframe\">\n",
       "  <thead>\n",
       "    <tr style=\"text-align: right;\">\n",
       "      <th></th>\n",
       "      <th>index</th>\n",
       "      <th>Name</th>\n",
       "      <th>Address</th>\n",
       "      <th>Serial Number</th>\n",
       "      <th>Enrollment Number</th>\n",
       "      <th>Enrollment Date</th>\n",
       "      <th>Gender</th>\n",
       "    </tr>\n",
       "  </thead>\n",
       "  <tbody>\n",
       "    <tr>\n",
       "      <th>0</th>\n",
       "      <td>18026</td>\n",
       "      <td>ALAG KULDEEP SINGH HARNAM SINGH</td>\n",
       "      <td>6/135 MHB HAZARA CO-OP HSG SOC SION CHUNABHATT...</td>\n",
       "      <td>23929</td>\n",
       "      <td>MAH/245/1984</td>\n",
       "      <td>1984-02-06</td>\n",
       "      <td>Male</td>\n",
       "    </tr>\n",
       "    <tr>\n",
       "      <th>1</th>\n",
       "      <td>18030</td>\n",
       "      <td>ALEKAR VISHWAS ARJUN KANTABAI</td>\n",
       "      <td>B-36/141 SIDDHARTH NAGAR 2 GOREGAON WEST MUMBA...</td>\n",
       "      <td>71544</td>\n",
       "      <td>MAH/985/2003</td>\n",
       "      <td>2003-04-22</td>\n",
       "      <td>Male</td>\n",
       "    </tr>\n",
       "    <tr>\n",
       "      <th>2</th>\n",
       "      <td>18043</td>\n",
       "      <td>AMMAL A SHAREEFA</td>\n",
       "      <td>3/5, FRIENDS COLONY, BHANDUP, MUMBAI-78</td>\n",
       "      <td>13922</td>\n",
       "      <td>MAH/843/1977</td>\n",
       "      <td>1977-10-19</td>\n",
       "      <td>Male</td>\n",
       "    </tr>\n",
       "    <tr>\n",
       "      <th>3</th>\n",
       "      <td>18044</td>\n",
       "      <td>ANAGONDAHALLI SUBBARAO RAMARAO</td>\n",
       "      <td>5/170, 1ST FLOOR, KAILASH KUNJ, N.P. MARG, WAD...</td>\n",
       "      <td>21963</td>\n",
       "      <td>MAH/135/1983</td>\n",
       "      <td>1983-02-02</td>\n",
       "      <td>Male</td>\n",
       "    </tr>\n",
       "    <tr>\n",
       "      <th>4</th>\n",
       "      <td>18050</td>\n",
       "      <td>ANDHYARUJINA FIROZE BEHRAMSHAH</td>\n",
       "      <td>B-201 POORNIMA APTS 2ND FLR CARMICHAEL RD MUMB...</td>\n",
       "      <td>11161</td>\n",
       "      <td>MAH/735/1974</td>\n",
       "      <td>1974-12-12</td>\n",
       "      <td>Male</td>\n",
       "    </tr>\n",
       "    <tr>\n",
       "      <th>...</th>\n",
       "      <td>...</td>\n",
       "      <td>...</td>\n",
       "      <td>...</td>\n",
       "      <td>...</td>\n",
       "      <td>...</td>\n",
       "      <td>...</td>\n",
       "      <td>...</td>\n",
       "    </tr>\n",
       "    <tr>\n",
       "      <th>10469</th>\n",
       "      <td>115652</td>\n",
       "      <td>ZIRPE BHAGWAN EKNATH</td>\n",
       "      <td>1:5, E-15, APPOLO CHS, SECTOR-25, JUINAGAR, NA...</td>\n",
       "      <td>120759</td>\n",
       "      <td>MAH/727/2011</td>\n",
       "      <td>2011-03-28</td>\n",
       "      <td>Male</td>\n",
       "    </tr>\n",
       "    <tr>\n",
       "      <th>10470</th>\n",
       "      <td>115658</td>\n",
       "      <td>ZODAGE AVINASH NANASAHEB</td>\n",
       "      <td>VAISHALI NAGAR, B-7/201, S.V.ROAD, JOGESHWARI ...</td>\n",
       "      <td>56715</td>\n",
       "      <td>MAH/3526/1999</td>\n",
       "      <td>1999-06-24</td>\n",
       "      <td>Male</td>\n",
       "    </tr>\n",
       "    <tr>\n",
       "      <th>10471</th>\n",
       "      <td>115659</td>\n",
       "      <td>ZODAGE NANASAHEB SANTU</td>\n",
       "      <td>VAISHALI NAGAR B7(20) BEHIND RAMSHYAM TALKIES ...</td>\n",
       "      <td>23854</td>\n",
       "      <td>MAH/171/1984</td>\n",
       "      <td>1984-01-18</td>\n",
       "      <td>Male</td>\n",
       "    </tr>\n",
       "    <tr>\n",
       "      <th>10472</th>\n",
       "      <td>115696</td>\n",
       "      <td>ZULFIQUAR MAJEED MEMON</td>\n",
       "      <td>71 AASHIYANA 1ST ROAD ALMEIDA PARK OPPOSITE ST...</td>\n",
       "      <td>84053</td>\n",
       "      <td>MAH/4533/2005</td>\n",
       "      <td>2005-09-23</td>\n",
       "      <td>Male</td>\n",
       "    </tr>\n",
       "    <tr>\n",
       "      <th>10473</th>\n",
       "      <td>115706</td>\n",
       "      <td>ZUNJARRAO VIKRANT SHRIDHAR</td>\n",
       "      <td>806, TOWER 1/A DHEERAJ ENCLAVE OPP BHOR INDUST...</td>\n",
       "      <td>100986</td>\n",
       "      <td>MAH/2576/2008</td>\n",
       "      <td>2008-07-18</td>\n",
       "      <td>Male</td>\n",
       "    </tr>\n",
       "  </tbody>\n",
       "</table>\n",
       "<p>10474 rows × 7 columns</p>\n",
       "</div>"
      ],
      "text/plain": [
       "        index                             Name  \\\n",
       "0       18026  ALAG KULDEEP SINGH HARNAM SINGH   \n",
       "1       18030    ALEKAR VISHWAS ARJUN KANTABAI   \n",
       "2       18043                 AMMAL A SHAREEFA   \n",
       "3       18044   ANAGONDAHALLI SUBBARAO RAMARAO   \n",
       "4       18050   ANDHYARUJINA FIROZE BEHRAMSHAH   \n",
       "...       ...                              ...   \n",
       "10469  115652             ZIRPE BHAGWAN EKNATH   \n",
       "10470  115658         ZODAGE AVINASH NANASAHEB   \n",
       "10471  115659           ZODAGE NANASAHEB SANTU   \n",
       "10472  115696           ZULFIQUAR MAJEED MEMON   \n",
       "10473  115706       ZUNJARRAO VIKRANT SHRIDHAR   \n",
       "\n",
       "                                                 Address  Serial Number  \\\n",
       "0      6/135 MHB HAZARA CO-OP HSG SOC SION CHUNABHATT...          23929   \n",
       "1      B-36/141 SIDDHARTH NAGAR 2 GOREGAON WEST MUMBA...          71544   \n",
       "2                3/5, FRIENDS COLONY, BHANDUP, MUMBAI-78          13922   \n",
       "3      5/170, 1ST FLOOR, KAILASH KUNJ, N.P. MARG, WAD...          21963   \n",
       "4      B-201 POORNIMA APTS 2ND FLR CARMICHAEL RD MUMB...          11161   \n",
       "...                                                  ...            ...   \n",
       "10469  1:5, E-15, APPOLO CHS, SECTOR-25, JUINAGAR, NA...         120759   \n",
       "10470  VAISHALI NAGAR, B-7/201, S.V.ROAD, JOGESHWARI ...          56715   \n",
       "10471  VAISHALI NAGAR B7(20) BEHIND RAMSHYAM TALKIES ...          23854   \n",
       "10472  71 AASHIYANA 1ST ROAD ALMEIDA PARK OPPOSITE ST...          84053   \n",
       "10473  806, TOWER 1/A DHEERAJ ENCLAVE OPP BHOR INDUST...         100986   \n",
       "\n",
       "      Enrollment Number Enrollment Date Gender  \n",
       "0          MAH/245/1984      1984-02-06   Male  \n",
       "1          MAH/985/2003      2003-04-22   Male  \n",
       "2          MAH/843/1977      1977-10-19   Male  \n",
       "3          MAH/135/1983      1983-02-02   Male  \n",
       "4          MAH/735/1974      1974-12-12   Male  \n",
       "...                 ...             ...    ...  \n",
       "10469      MAH/727/2011      2011-03-28   Male  \n",
       "10470     MAH/3526/1999      1999-06-24   Male  \n",
       "10471      MAH/171/1984      1984-01-18   Male  \n",
       "10472     MAH/4533/2005      2005-09-23   Male  \n",
       "10473     MAH/2576/2008      2008-07-18   Male  \n",
       "\n",
       "[10474 rows x 7 columns]"
      ]
     },
     "execution_count": 53,
     "metadata": {},
     "output_type": "execute_result"
    }
   ],
   "source": [
    "mumbai_lawyer_male"
   ]
  },
  {
   "cell_type": "code",
   "execution_count": 68,
   "id": "1128e8d3",
   "metadata": {},
   "outputs": [
    {
     "data": {
      "text/plain": [
       "(10474, 7)"
      ]
     },
     "execution_count": 68,
     "metadata": {},
     "output_type": "execute_result"
    }
   ],
   "source": [
    "mumbai_lawyer_male.shape"
   ]
  },
  {
   "cell_type": "code",
   "execution_count": 74,
   "id": "85837d89",
   "metadata": {},
   "outputs": [
    {
     "data": {
      "text/plain": [
       "<Axes: title={'center': 'Male and Female lawyers in Mumbai'}, xlabel='Gender', ylabel='Count'>"
      ]
     },
     "execution_count": 74,
     "metadata": {},
     "output_type": "execute_result"
    },
    {
     "data": {
      "image/png": "[encoded data removed]",
      "text/plain": [
       "<Figure size 640x480 with 1 Axes>"
      ]
     },
     "metadata": {},
     "output_type": "display_data"
    }
   ],
   "source": [
    "plt.xlabel('Gender')\n",
    "plt.title('Male and Female lawyers in Mumbai')\n",
    "sns.histplot(data=mumbai_data,bins=1,x='Gender')"
   ]
  },
  {
   "cell_type": "markdown",
   "id": "2d5b0eeb",
   "metadata": {},
   "source": [
    "#### There are more than 7000 thousands Female lawyer in mumbai"
   ]
  },
  {
   "cell_type": "markdown",
   "id": "67371735",
   "metadata": {},
   "source": [
    "#### There are more than 10000 thousands Male lawyer in mumbai\n",
    "\n"
   ]
  },
  {
   "cell_type": "markdown",
   "id": "98ce472d",
   "metadata": {},
   "source": [
    "#### Exact number of Female and Male Lawyers is 7190 and 10474 respectively"
   ]
  },
  {
   "cell_type": "markdown",
   "id": "7d49516f",
   "metadata": {},
   "source": [
    "### converting DataFrame into csv file"
   ]
  },
  {
   "cell_type": "code",
   "execution_count": 77,
   "id": "70ca41d6",
   "metadata": {},
   "outputs": [],
   "source": [
    "mumbai_data.to_csv('Mumbai_lawyer_data')"
   ]
  },
  {
   "cell_type": "code",
   "execution_count": 78,
   "id": "635e291e",
   "metadata": {},
   "outputs": [],
   "source": [
    "mumbai_lawyer_female.to_csv('Mumbai_female_lawyer_data')"
   ]
  },
  {
   "cell_type": "code",
   "execution_count": 79,
   "id": "0911b90d",
   "metadata": {},
   "outputs": [],
   "source": [
    "mumbai_lawyer_male.to_csv('Mumbai_male_lawyer_data')"
   ]
  },
  {
   "cell_type": "code",
   "execution_count": null,
   "id": "b6539d0b",
   "metadata": {},
   "outputs": [],
   "source": []
  }
 ],
 "metadata": {
  "kernelspec": {
   "display_name": "Python 3 (ipykernel)",
   "language": "python",
   "name": "python3"
  },
  "language_info": {
   "codemirror_mode": {
    "name": "ipython",
    "version": 3
   },
   "file_extension": ".py",
   "mimetype": "text/x-python",
   "name": "python",
   "nbconvert_exporter": "python",
   "pygments_lexer": "ipython3",
   "version": "3.10.9"
  }
 },
 "nbformat": 4,
 "nbformat_minor": 5
}
