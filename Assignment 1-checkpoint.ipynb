{
 "cells": [
  {
   "cell_type": "code",
   "execution_count": 1,
   "id": "a04b58e6",
   "metadata": {},
   "outputs": [],
   "source": [
    "# Q1. Create one variable containing following type of data:\n",
    "# (i) string\n",
    "name = \"Hanzala\"\n",
    "# (ii) list\n",
    "list1 = ['game',True,'hello',752,5.55]\n",
    "# (iii) float\n",
    "marks = 75.14\n",
    "# (iv) tuple\n",
    "tup = ('hello','hii','book')\n"
   ]
  },
  {
   "cell_type": "code",
   "execution_count": 2,
   "id": "f1eac4af",
   "metadata": {},
   "outputs": [],
   "source": [
    "# Q2. Given are some following variables containing data:\n",
    "# (i) var1 = ‘ ‘\n",
    "# it is 'str' (string) data type\n",
    "\n",
    "# (ii) var2 = '[ DS , ML , Python]'\n",
    "# it is 'str' (string) data\n",
    "\n",
    "# (iii) var3 = [ ‘DS’ , ’ML’ , ‘Python’ ]\n",
    "# it is 'list' data type\n",
    "\n",
    "# (iv) var4 = 1.\n",
    "# it is 'int' data type\n",
    "\n",
    "# What will be the data type of the above given variable.\n"
   ]
  },
  {
   "cell_type": "code",
   "execution_count": 3,
   "id": "72dbe61e",
   "metadata": {},
   "outputs": [
    {
     "name": "stdout",
     "output_type": "stream",
     "text": [
      "5.0\n",
      "1\n",
      "5\n",
      "25\n"
     ]
    }
   ],
   "source": [
    "#Q3. Explain the use of the following operators using an example:\n",
    "# (i) /\n",
    "# this is use for division and it returns the float value\n",
    "print(10/2)\n",
    "\n",
    "# (ii) %\n",
    "# this is called modulo operator it returns the remainder after division\n",
    "print(5%2)\n",
    "\n",
    "# (iii) //\n",
    "# this is use for floor division means it round off the value and return a int\n",
    "print(10//2)\n",
    "\n",
    "# (iv) **\n",
    "# this is exponential operator, it is use for power value\n",
    "print(5**2)"
   ]
  },
  {
   "cell_type": "code",
   "execution_count": 4,
   "id": "e06e6093",
   "metadata": {},
   "outputs": [
    {
     "name": "stdout",
     "output_type": "stream",
     "text": [
      "hanzala\n",
      "<class 'str'>\n",
      "True\n",
      "<class 'bool'>\n",
      "134\n",
      "<class 'int'>\n",
      "45.454\n",
      "<class 'float'>\n",
      "(4+8j)\n",
      "<class 'complex'>\n",
      "92\n",
      "<class 'int'>\n",
      "jamila\n",
      "<class 'str'>\n",
      "shifa\n",
      "<class 'str'>\n",
      "ashfaque\n",
      "<class 'str'>\n",
      "dada\n",
      "<class 'str'>\n"
     ]
    }
   ],
   "source": [
    "# Q4. Create a list of length 10 of your choice containing multiple types of data. Using for loop print the\n",
    "# element and its data type.\n",
    "\n",
    "lis = ['hanzala',True,134,45.454,4+8j,92,'jamila','shifa','ashfaque','dada']\n",
    "\n",
    "for el in lis:\n",
    "    print(el)\n",
    "    print(type(el))"
   ]
  },
  {
   "cell_type": "code",
   "execution_count": 7,
   "id": "d5e795d7",
   "metadata": {},
   "outputs": [
    {
     "name": "stdout",
     "output_type": "stream",
     "text": [
      "Enter first number10\n",
      "Enter second number 2\n",
      "number is divisble 1 times\n"
     ]
    }
   ],
   "source": [
    "# Q5. Using a while loop, verify if the number A is purely divisible by number B and if so then how many\n",
    "# times it can be divisible.\n",
    "\n",
    "numA = int(input(\"Enter first number\"))\n",
    "numB = int(input(\"Enter second number \"))\n",
    "count = 0\n",
    "while(numA % numB == 0):\n",
    "    if(numA >= numB):\n",
    "        numA = numA // numB\n",
    "        count += 1\n",
    "print(f\"number is divisble {count} times\")\n"
   ]
  },
  {
   "cell_type": "code",
   "execution_count": 8,
   "id": "fd553917",
   "metadata": {},
   "outputs": [
    {
     "name": "stdout",
     "output_type": "stream",
     "text": [
      "1 is not divisible by 3\n",
      "2 is not divisible by 3\n",
      "3 is divisble by 3\n",
      "4 is not divisible by 3\n",
      "5 is not divisible by 3\n",
      "6 is divisble by 3\n",
      "7 is not divisible by 3\n",
      "8 is not divisible by 3\n",
      "9 is divisble by 3\n",
      "10 is not divisible by 3\n",
      "11 is not divisible by 3\n",
      "12 is divisble by 3\n",
      "13 is not divisible by 3\n",
      "14 is not divisible by 3\n",
      "15 is divisble by 3\n",
      "16 is not divisible by 3\n",
      "17 is not divisible by 3\n",
      "18 is divisble by 3\n",
      "19 is not divisible by 3\n",
      "20 is not divisible by 3\n",
      "21 is divisble by 3\n",
      "22 is not divisible by 3\n",
      "23 is not divisible by 3\n",
      "24 is divisble by 3\n",
      "25 is not divisible by 3\n"
     ]
    }
   ],
   "source": [
    "# Q6. Create a list containing 25 int type data. Using for loop and if-else condition print if the element is\n",
    "# divisible by 3 or not.\n",
    "\n",
    "lists = list(range(1,26))\n",
    "\n",
    "for el in lists:\n",
    "    if(el%3 == 0):\n",
    "        print(f\"{el} is divisble by 3\")\n",
    "    else:\n",
    "        print(f\"{el} is not divisible by 3\")\n"
   ]
  },
  {
   "cell_type": "code",
   "execution_count": 10,
   "id": "ec56650a",
   "metadata": {},
   "outputs": [
    {
     "name": "stdout",
     "output_type": "stream",
     "text": [
      "['bag', False, 'tiffin', 'charger']\n",
      "['bag', 'medicine', 'tiffin', 'charger']\n",
      "w\n"
     ]
    },
    {
     "ename": "TypeError",
     "evalue": "'str' object does not support item assignment",
     "output_type": "error",
     "traceback": [
      "\u001b[1;31m---------------------------------------------------------------------------\u001b[0m",
      "\u001b[1;31mTypeError\u001b[0m                                 Traceback (most recent call last)",
      "Cell \u001b[1;32mIn[10], line 22\u001b[0m\n\u001b[0;32m     20\u001b[0m \u001b[38;5;28mprint\u001b[39m(\u001b[38;5;28mstr\u001b[39m[\u001b[38;5;241m1\u001b[39m])\n\u001b[0;32m     21\u001b[0m \u001b[38;5;66;03m# now we can see on 1st index there is 'w' and now we will try to change the value\u001b[39;00m\n\u001b[1;32m---> 22\u001b[0m \u001b[38;5;28mstr\u001b[39m[\u001b[38;5;241m1\u001b[39m] \u001b[38;5;241m=\u001b[39m \u001b[38;5;124m'\u001b[39m\u001b[38;5;124mm\u001b[39m\u001b[38;5;124m'\u001b[39m\n\u001b[0;32m     23\u001b[0m \u001b[38;5;66;03m# here it will show error that str object does not support item assignment that's the reason it is immutable\u001b[39;00m\n\u001b[0;32m     24\u001b[0m \u001b[38;5;28mprint\u001b[39m(\u001b[38;5;28mstr\u001b[39m)\n",
      "\u001b[1;31mTypeError\u001b[0m: 'str' object does not support item assignment"
     ]
    }
   ],
   "source": [
    "# Q7. What do you understand about mutable and immutable data types? Give examples for both showing\n",
    "# this property.\n",
    "\n",
    "# mutable data type\n",
    "# mutable data type means it allows us to change the value \n",
    "# for example 'list'\n",
    "# here we create a list\n",
    "l = ['bag',False,'tiffin','charger']\n",
    "print(l)\n",
    "# now we can se on 1st index there is a boolean value 'False' and we will change the value\n",
    "l[1] = 'medicine'\n",
    "print(l)\n",
    "# so the value has been changed that's the reason it is mutable\n",
    "\n",
    "# immutable data type\n",
    "# immutable data type means it not allows to change the value\n",
    "# for example 'string'\n",
    "# here is a string\n",
    "str = 'pwskills'\n",
    "print(str[1])\n",
    "# now we can see on 1st index there is 'w' and now we will try to change the value\n",
    "str[1] = 'm'\n",
    "# here it will show error that str object does not support item assignment that's the reason it is immutable\n",
    "print(str)\n"
   ]
  },
  {
   "cell_type": "code",
   "execution_count": null,
   "id": "6d74405f",
   "metadata": {},
   "outputs": [],
   "source": []
  }
 ],
 "metadata": {
  "kernelspec": {
   "display_name": "Python 3 (ipykernel)",
   "language": "python",
   "name": "python3"
  },
  "language_info": {
   "codemirror_mode": {
    "name": "ipython",
    "version": 3
   },
   "file_extension": ".py",
   "mimetype": "text/x-python",
   "name": "python",
   "nbconvert_exporter": "python",
   "pygments_lexer": "ipython3",
   "version": "3.10.9"
  }
 },
 "nbformat": 4,
 "nbformat_minor": 5
}
