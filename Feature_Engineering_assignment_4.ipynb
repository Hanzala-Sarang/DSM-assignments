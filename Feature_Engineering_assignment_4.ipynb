{
 "cells": [
  {
   "cell_type": "markdown",
   "id": "5734d1a0",
   "metadata": {},
   "source": [
    "### Q1. What is data encoding? How is it useful in data science?"
   ]
  },
  {
   "cell_type": "markdown",
   "id": "e25dc253",
   "metadata": {},
   "source": [
    "* Data encoding is a technique to convert categorical feature into numerical feature\n",
    "* data encoding play very important role in data science\n",
    "* It is a part of Feature Engineering\n",
    "* The use of data encoding in data science is if we want to train a model then Machine learning process do not understand the categorical value, it only understand the numerical value this is the main reason we encode the categorical feature into numerical feature.\n",
    "\n",
    "* There are 3 types of data encoding\n",
    "    * nominal / OneHotEncoding\n",
    "    * ordinal and label encoding\n",
    "    * Target guided ordinal encoding"
   ]
  },
  {
   "cell_type": "markdown",
   "id": "5caa8172",
   "metadata": {},
   "source": [
    "### Q2. What is nominal encoding? Provide an example of how you would use it in a real-world scenario."
   ]
  },
  {
   "cell_type": "markdown",
   "id": "d78f8264",
   "metadata": {},
   "source": [
    "* nominal coding is process to convert the categorical columns into the numerical columns \n",
    "* it is use when a feature does not have any order.\n",
    "* there are two techniques in nominal encoding\n",
    "    * OneHotEncoding \n",
    "    * LabelEncoding\n",
    "* Here is an example of how you might use nominal encoding in a real-world scenario:\n",
    "    * You are building a machine learning model to predict whether a customer will churn. One of the features in your dataset is the customer's gender. Gender is a nominal variable, so you need to encode it before you can use it in your model.\n",
    "    * You could use one-hot encoding to create two new features: one for male and one for female. This would allow your model to learn that gender is an important factor in predicting churn.\n",
    "    * You could also use label encoding to create a single feature for gender. This would be a simpler approach, but it would not allow your model to learn as much about the relationship between gender and churn."
   ]
  },
  {
   "cell_type": "markdown",
   "id": "db26d2f2",
   "metadata": {},
   "source": [
    "### Q3. In what situations is nominal encoding preferred over one-hot encoding? Provide a practical example."
   ]
  },
  {
   "cell_type": "markdown",
   "id": "e634d06c",
   "metadata": {},
   "source": [
    "* If there is multiple unique values and if we apply one-hot encoding then it will multiple feature because it create a binary vector for each unique values this will make our model slow \n",
    "* so in this situation we will use nominal encoding also known as label encoding.\n",
    "* label encoding gives unique integer value to each unique value in a single feature.\n",
    "* label encoding is more effecient when we have multiple unique values.\n",
    "* hence it's depend on which Machine learning algorithm we are using to train the model\n"
   ]
  },
  {
   "cell_type": "markdown",
   "id": "1304831f",
   "metadata": {},
   "source": [
    "### Q4. Suppose you have a dataset containing categorical data with 5 unique values. Which encoding technique would you use to transform this data into a format suitable for machine learning algorithms? Explain why you made this choice."
   ]
  },
  {
   "cell_type": "markdown",
   "id": "e27c689e",
   "metadata": {},
   "source": [
    "* If I have a dataset and a feature contains a 5 unique values and I have to choose which encoding technique I will use.\n",
    "* So firstly I will analyse the data that which type of data is present, Nominal or Ordinal\n",
    "* If data had a rank then I will perform a Ordinal Encoding technique.\n",
    "* If data is not a ordinal then I will perform Nominal Encoding \n",
    "    * In Nominal Encoding there a two technique\n",
    "        * one-hot Encoding technique\n",
    "        * Label Encoding \n",
    "    * but if I perform one-hot encoding technique, then we have 5 unique value so it will create 5 extra feature which not that effecient\n",
    "    * In Label Encoding it will give unique integers value to each category \n",
    "    * Label Encoding will be more effecient according to me.\n",
    "* Conclusion, I will perform Label Encoding technique to transform the categorical data into numerical data."
   ]
  },
  {
   "cell_type": "markdown",
   "id": "7b1b6f06",
   "metadata": {},
   "source": [
    "### Q5. In a machine learning project, you have a dataset with 1000 rows and 5 columns. Two of the columns are categorical, and the remaining three columns are numerical. If you were to use nominal encoding to transform the categorical data, how many new columns would be created? Show your calculations."
   ]
  },
  {
   "cell_type": "markdown",
   "id": "b6637e8d",
   "metadata": {},
   "source": [
    "When using nominal encoding, also known as label encoding, to transform categorical data, you create a mapping between the unique categories in each column and corresponding integer labels. Each unique category is assigned a unique integer label. Since you have two categorical columns, let's calculate the number of new columns that would be created.\n",
    "\n",
    "Assuming the two categorical columns have the following number of unique categories:\n",
    "\n",
    "* Categorical Column 1: N1 unique categories\n",
    "* Categorical Column 2: N2 unique categories\n",
    "\n",
    "For each categorical column, nominal encoding would replace the categories with integer labels. Therefore, you would have two new columns, one for each categorical column, each containing integer labels. So, the total number of new columns created would be 2.\n",
    "\n",
    "In this case, nominal encoding doesn't result in additional columns as one-hot encoding would. Instead, it replaces the categorical values with integer labels in the existing columns, without introducing new columns."
   ]
  },
  {
   "cell_type": "markdown",
   "id": "46f5a8e6",
   "metadata": {},
   "source": [
    "### Q6. You are working with a dataset containing information about different types of animals, including their species, habitat, and diet. Which encoding technique would you use to transform the categorical data into a format suitable for machine learning algorithms? Justify your answer."
   ]
  },
  {
   "cell_type": "markdown",
   "id": "3cae7dd4",
   "metadata": {},
   "source": [
    "For a dataset containing categorical data about different types of animals, including their species, habitat, and diet, the appropriate encoding technique would be a combination of one-hot encoding and potentially label encoding.\n",
    "\n",
    "Here's the justification for this choice:\n",
    "\n",
    "* Species Column: The \"species\" column likely contains nominal categorical data with distinct categories representing different species of animals. Since there is no inherent ordinal relationship among species, using one-hot encoding would be ideal. Each unique species would be represented by a separate binary column, allowing the machine learning algorithm to treat them as independent categories without assuming any ordinal relationships.\n",
    "\n",
    "* Habitat Column: The \"habitat\" column may also contain nominal categorical data representing various habitats where animals reside. Again, there's no natural order among habitats. Thus, using one-hot encoding for this column would be appropriate. Each habitat category would become a separate binary column, providing the necessary information without implying any hierarchical relationship.\n",
    "\n",
    "* Diet Column: The \"diet\" column likely represents different dietary preferences of animals, which could be ordinal or nominal depending on how it's structured. If there's an inherent order, such as \"Herbivore\" < \"Omnivore\" < \"Carnivore,\" you could use label encoding to represent these categories with integer labels. However, if there's no clear order, you should resort to one-hot encoding to maintain the independence of categories."
   ]
  },
  {
   "cell_type": "markdown",
   "id": "2a73bc62",
   "metadata": {},
   "source": [
    "### Q7.You are working on a project that involves predicting customer churn for a telecommunications company. You have a dataset with 5 features, including the customer's gender, age, contract type, monthly charges, and tenure. Which encoding technique(s) would you use to transform the categorical data into numerical data? Provide a step-by-step explanation of how you would implement the encoding."
   ]
  },
  {
   "cell_type": "markdown",
   "id": "d027b6e9",
   "metadata": {},
   "source": [
    "To transform the categorical data into numerical data for predicting customer churn in a telecommunications company, you can use a combination of one-hot encoding and label encoding. Let's walk through the steps for each categorical feature:\n",
    "\n",
    "Given the features:\n",
    "\n",
    "* Gender (Categorical)\n",
    "* Age (Numerical)\n",
    "* Contract Type (Categorical)\n",
    "* Monthly Charges (Numerical)\n",
    "* Tenure (Numerical)\n",
    "\n",
    "* Step 1: Gender (Categorical)\n",
    "    For the \"Gender\" feature, you can use label encoding since there are only two distinct categories: \"Male\" and \"Female.\"\n",
    "\n",
    "    Male -> 0\n",
    "    Female -> 1\n",
    "\n",
    "* Step 2: Contract Type (Categorical)\n",
    "    For the \"Contract Type\" feature, you can use one-hot encoding as there are multiple distinct categories: \"Postpaid,\" \"Prepaid,\" etc.\n",
    "\n",
    "    Perform one-hot encoding by creating binary columns for each category. If you have N categories, create N binary columns, where a 1 in a column indicates the presence of that category, and 0 indicates its absence.\n",
    "\n",
    "    Contract Type \"Postpaid\" -> [1, 0, 0, ...]\n",
    "    Contract Type \"Prepaid\" -> [0, 1, 0, ...]\n",
    "    (other contract types)\n",
    "\n",
    "* Step 3: Age, Monthly Charges, and Tenure (Numerical)\n",
    "    For numerical features like \"Age,\" \"Monthly Charges,\" and \"Tenure,\" no encoding is necessary. You can use these features as they are in your machine learning model since they are already numerical measurements."
   ]
  }
 ],
 "metadata": {
  "kernelspec": {
   "display_name": "Python 3 (ipykernel)",
   "language": "python",
   "name": "python3"
  },
  "language_info": {
   "codemirror_mode": {
    "name": "ipython",
    "version": 3
   },
   "file_extension": ".py",
   "mimetype": "text/x-python",
   "name": "python",
   "nbconvert_exporter": "python",
   "pygments_lexer": "ipython3",
   "version": "3.10.9"
  }
 },
 "nbformat": 4,
 "nbformat_minor": 5
}
