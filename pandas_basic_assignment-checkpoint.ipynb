{
 "cells": [
  {
   "cell_type": "code",
   "execution_count": 1,
   "id": "9ab608b5",
   "metadata": {},
   "outputs": [
    {
     "name": "stdout",
     "output_type": "stream",
     "text": [
      "Requirement already satisfied: pandas in c:\\users\\hanza\\anaconda3\\lib\\site-packages (1.5.3)\n",
      "Requirement already satisfied: numpy>=1.21.0 in c:\\users\\hanza\\anaconda3\\lib\\site-packages (from pandas) (1.23.5)\n",
      "Requirement already satisfied: pytz>=2020.1 in c:\\users\\hanza\\anaconda3\\lib\\site-packages (from pandas) (2022.7)\n",
      "Requirement already satisfied: python-dateutil>=2.8.1 in c:\\users\\hanza\\anaconda3\\lib\\site-packages (from pandas) (2.8.2)\n",
      "Requirement already satisfied: six>=1.5 in c:\\users\\hanza\\anaconda3\\lib\\site-packages (from python-dateutil>=2.8.1->pandas) (1.16.0)\n",
      "Note: you may need to restart the kernel to use updated packages.\n"
     ]
    }
   ],
   "source": [
    "pip install pandas"
   ]
  },
  {
   "cell_type": "code",
   "execution_count": 2,
   "id": "adfe8959",
   "metadata": {},
   "outputs": [],
   "source": [
    "import pandas as pd"
   ]
  },
  {
   "cell_type": "markdown",
   "id": "a9d58f80",
   "metadata": {},
   "source": [
    "Q1. Create a Pandas Series that contains the following data: 4, 8, 15, 16, 23, and 42. Then, print the series."
   ]
  },
  {
   "cell_type": "code",
   "execution_count": 3,
   "id": "ebb628c3",
   "metadata": {},
   "outputs": [],
   "source": [
    "series = pd.Series([4,8,15,16,23,42])"
   ]
  },
  {
   "cell_type": "code",
   "execution_count": 4,
   "id": "2780b5fb",
   "metadata": {},
   "outputs": [
    {
     "data": {
      "text/plain": [
       "0     4\n",
       "1     8\n",
       "2    15\n",
       "3    16\n",
       "4    23\n",
       "5    42\n",
       "dtype: int64"
      ]
     },
     "execution_count": 4,
     "metadata": {},
     "output_type": "execute_result"
    }
   ],
   "source": [
    "series"
   ]
  },
  {
   "cell_type": "markdown",
   "id": "d97056e2",
   "metadata": {},
   "source": [
    "Q2. Create a variable of list type containing 10 elements in it, and apply pandas.Series function on the variable print it."
   ]
  },
  {
   "cell_type": "code",
   "execution_count": 5,
   "id": "e803ca65",
   "metadata": {},
   "outputs": [],
   "source": [
    "l = [1,2,3,4,5,6,7,8,9,10]"
   ]
  },
  {
   "cell_type": "code",
   "execution_count": 6,
   "id": "08558a79",
   "metadata": {},
   "outputs": [],
   "source": [
    "l1 = pd.Series(l)"
   ]
  },
  {
   "cell_type": "code",
   "execution_count": 7,
   "id": "cba567d5",
   "metadata": {},
   "outputs": [
    {
     "data": {
      "text/plain": [
       "0     1\n",
       "1     2\n",
       "2     3\n",
       "3     4\n",
       "4     5\n",
       "5     6\n",
       "6     7\n",
       "7     8\n",
       "8     9\n",
       "9    10\n",
       "dtype: int64"
      ]
     },
     "execution_count": 7,
     "metadata": {},
     "output_type": "execute_result"
    }
   ],
   "source": [
    "l1"
   ]
  },
  {
   "cell_type": "markdown",
   "id": "bc277848",
   "metadata": {},
   "source": [
    "Q3. Create a Pandas DataFrame that contains the following data:"
   ]
  },
  {
   "cell_type": "code",
   "execution_count": 8,
   "id": "fdd4d911",
   "metadata": {},
   "outputs": [],
   "source": [
    "data = {'Name':['alice','Bob','Claire'],'Age':[25,30,27],'Gender':['Female','Male','female']}"
   ]
  },
  {
   "cell_type": "code",
   "execution_count": 9,
   "id": "590c7e2a",
   "metadata": {},
   "outputs": [],
   "source": [
    "ind = lambda x : x + 1"
   ]
  },
  {
   "cell_type": "code",
   "execution_count": 10,
   "id": "5cba181d",
   "metadata": {},
   "outputs": [],
   "source": [
    "df = pd.DataFrame(data )"
   ]
  },
  {
   "cell_type": "code",
   "execution_count": 11,
   "id": "6d689306",
   "metadata": {},
   "outputs": [
    {
     "data": {
      "text/html": [
       "<div>\n",
       "<style scoped>\n",
       "    .dataframe tbody tr th:only-of-type {\n",
       "        vertical-align: middle;\n",
       "    }\n",
       "\n",
       "    .dataframe tbody tr th {\n",
       "        vertical-align: top;\n",
       "    }\n",
       "\n",
       "    .dataframe thead th {\n",
       "        text-align: right;\n",
       "    }\n",
       "</style>\n",
       "<table border=\"1\" class=\"dataframe\">\n",
       "  <thead>\n",
       "    <tr style=\"text-align: right;\">\n",
       "      <th></th>\n",
       "      <th>Name</th>\n",
       "      <th>Age</th>\n",
       "      <th>Gender</th>\n",
       "    </tr>\n",
       "  </thead>\n",
       "  <tbody>\n",
       "    <tr>\n",
       "      <th>0</th>\n",
       "      <td>alice</td>\n",
       "      <td>25</td>\n",
       "      <td>Female</td>\n",
       "    </tr>\n",
       "    <tr>\n",
       "      <th>1</th>\n",
       "      <td>Bob</td>\n",
       "      <td>30</td>\n",
       "      <td>Male</td>\n",
       "    </tr>\n",
       "    <tr>\n",
       "      <th>2</th>\n",
       "      <td>Claire</td>\n",
       "      <td>27</td>\n",
       "      <td>female</td>\n",
       "    </tr>\n",
       "  </tbody>\n",
       "</table>\n",
       "</div>"
      ],
      "text/plain": [
       "     Name  Age  Gender\n",
       "0   alice   25  Female\n",
       "1     Bob   30    Male\n",
       "2  Claire   27  female"
      ]
     },
     "execution_count": 11,
     "metadata": {},
     "output_type": "execute_result"
    }
   ],
   "source": [
    "df"
   ]
  },
  {
   "cell_type": "markdown",
   "id": "d9662d0e",
   "metadata": {},
   "source": [
    "Q4. What is ‘DataFrame’ in pandas and how is it different from pandas.series? Explain with an example."
   ]
  },
  {
   "cell_type": "markdown",
   "id": "07f4e6e7",
   "metadata": {},
   "source": [
    "DataFrame\n",
    "In the context of the Python programming language and the pandas library, a DataFrame is a two-dimensional, size-mutable, and heterogeneous tabular data structure. It's similar to a table in a relational database or an Excel spreadsheet. Each column in a DataFrame can have a different data type, making it a versatile structure for analyzing and manipulating data.\n",
    "\n",
    "Series\n",
    "On the other hand, a pandas Series is a one-dimensional labeled array that can hold data of any type. It's like a single column of a DataFrame or a single attribute in a dataset."
   ]
  },
  {
   "cell_type": "code",
   "execution_count": 12,
   "id": "78608198",
   "metadata": {},
   "outputs": [
    {
     "name": "stdout",
     "output_type": "stream",
     "text": [
      "DataFrame:\n",
      "      Name  Age           City\n",
      "0    Alice   25       New York\n",
      "1      Bob   30         London\n",
      "2  Charlie   28  San Francisco\n"
     ]
    }
   ],
   "source": [
    "import pandas as pd\n",
    "\n",
    "# Creating a DataFrame\n",
    "data = {'Name': ['Alice', 'Bob', 'Charlie'],\n",
    "        'Age': [25, 30, 28],\n",
    "        'City': ['New York', 'London', 'San Francisco']}\n",
    "\n",
    "df = pd.DataFrame(data)\n",
    "print(\"DataFrame:\")\n",
    "print(df)"
   ]
  },
  {
   "cell_type": "code",
   "execution_count": 13,
   "id": "46d63e89",
   "metadata": {},
   "outputs": [
    {
     "name": "stdout",
     "output_type": "stream",
     "text": [
      "\n",
      "Series:\n",
      "0    25\n",
      "1    30\n",
      "2    28\n",
      "Name: Age, dtype: int64\n"
     ]
    }
   ],
   "source": [
    "ages = pd.Series([25, 30, 28], name='Age')\n",
    "print(\"\\nSeries:\")\n",
    "print(ages)"
   ]
  },
  {
   "cell_type": "markdown",
   "id": "21eb9654",
   "metadata": {},
   "source": [
    "Q5. What are some common functions you can use to manipulate data in a Pandas DataFrame? Can\n",
    "you give an example of when you might use one of these functions?"
   ]
  },
  {
   "cell_type": "code",
   "execution_count": 14,
   "id": "113d82d7",
   "metadata": {},
   "outputs": [],
   "source": [
    "# head()\n",
    "# it is use to see top 5 rows in a dataframe by default it shows 5 rows but\n",
    "# if we pass value in it then it will show the number of rows which we pass\n",
    "\n",
    "# tail()\n",
    "# it is use to see bottom 5 rows in a dataframe by default it shows 5 rows but\n",
    "# if we pass value in it then it will show the number of rows which we pass\n",
    "\n",
    "# describe()\n",
    "# if we use describe funtion in a dataframe then it gives some statistical value \n",
    "# for the particular column.\n",
    "# statistical values include count,mean,maximum,minimum,standard deviation,25%,50% and 75%\n",
    "\n",
    "# info()\n",
    "# it gives us the basic information of the dataframe.\n",
    "# this function is very use full to analyse the dataframe.\n",
    "# it helps us by showing column name, thier data type, and how many null values are there,etc."
   ]
  },
  {
   "cell_type": "markdown",
   "id": "761091a9",
   "metadata": {},
   "source": [
    "Q6. Which of the following is mutable in nature Series, DataFrame, Panel?"
   ]
  },
  {
   "cell_type": "markdown",
   "id": "8041bf6c",
   "metadata": {},
   "source": [
    "In programming, an object is considered mutable if its state or values can be changed after it is created. In the context of pandas:\n",
    "\n",
    "Series: Series are considered immutable. Once a Series is created, its values cannot be changed individually. You would need to create a new Series if you want to modify its values.\n",
    "    \n",
    "DataFrame: DataFrames are mutable. You can modify, add, or remove columns, as well as change the values within the DataFrame after its creation.\n",
    "\n",
    "Panel: Panels were a data structure in earlier versions of pandas but have been removed in recent versions due to their limited usage and complexity. but it was mutbale in nature just like a data frame"
   ]
  },
  {
   "cell_type": "markdown",
   "id": "f641a418",
   "metadata": {},
   "source": [
    "Q7. Create a DataFrame using multiple Series. Explain with an example."
   ]
  },
  {
   "cell_type": "code",
   "execution_count": 15,
   "id": "d3f0f9ae",
   "metadata": {},
   "outputs": [],
   "source": [
    "s1 = pd.Series([101,102,103,104])"
   ]
  },
  {
   "cell_type": "code",
   "execution_count": 16,
   "id": "ae655a65",
   "metadata": {},
   "outputs": [
    {
     "data": {
      "text/plain": [
       "0    101\n",
       "1    102\n",
       "2    103\n",
       "3    104\n",
       "dtype: int64"
      ]
     },
     "execution_count": 16,
     "metadata": {},
     "output_type": "execute_result"
    }
   ],
   "source": [
    "s1"
   ]
  },
  {
   "cell_type": "code",
   "execution_count": 17,
   "id": "affb0227",
   "metadata": {},
   "outputs": [],
   "source": [
    "s2 = pd.Series(['hanzala','abhi','salman','leo'])"
   ]
  },
  {
   "cell_type": "code",
   "execution_count": 18,
   "id": "00ad9b77",
   "metadata": {},
   "outputs": [
    {
     "data": {
      "text/plain": [
       "0    hanzala\n",
       "1       abhi\n",
       "2     salman\n",
       "3        leo\n",
       "dtype: object"
      ]
     },
     "execution_count": 18,
     "metadata": {},
     "output_type": "execute_result"
    }
   ],
   "source": [
    "s2"
   ]
  },
  {
   "cell_type": "code",
   "execution_count": 19,
   "id": "992b3620",
   "metadata": {},
   "outputs": [],
   "source": [
    "s3 = pd.Series(['Student','data analyst','actor','CA'])"
   ]
  },
  {
   "cell_type": "code",
   "execution_count": 20,
   "id": "8f86b48f",
   "metadata": {},
   "outputs": [
    {
     "data": {
      "text/plain": [
       "0         Student\n",
       "1    data analyst\n",
       "2           actor\n",
       "3              CA\n",
       "dtype: object"
      ]
     },
     "execution_count": 20,
     "metadata": {},
     "output_type": "execute_result"
    }
   ],
   "source": [
    "s3"
   ]
  },
  {
   "cell_type": "code",
   "execution_count": 21,
   "id": "e9313284",
   "metadata": {},
   "outputs": [],
   "source": [
    "data = {'ID':s1,'Name':s2,'Profession':s3}"
   ]
  },
  {
   "cell_type": "code",
   "execution_count": 22,
   "id": "2a181850",
   "metadata": {},
   "outputs": [],
   "source": [
    "df2 = pd.DataFrame(data)"
   ]
  },
  {
   "cell_type": "code",
   "execution_count": 23,
   "id": "014edb67",
   "metadata": {},
   "outputs": [
    {
     "data": {
      "text/html": [
       "<div>\n",
       "<style scoped>\n",
       "    .dataframe tbody tr th:only-of-type {\n",
       "        vertical-align: middle;\n",
       "    }\n",
       "\n",
       "    .dataframe tbody tr th {\n",
       "        vertical-align: top;\n",
       "    }\n",
       "\n",
       "    .dataframe thead th {\n",
       "        text-align: right;\n",
       "    }\n",
       "</style>\n",
       "<table border=\"1\" class=\"dataframe\">\n",
       "  <thead>\n",
       "    <tr style=\"text-align: right;\">\n",
       "      <th></th>\n",
       "      <th>ID</th>\n",
       "      <th>Name</th>\n",
       "      <th>Profession</th>\n",
       "    </tr>\n",
       "  </thead>\n",
       "  <tbody>\n",
       "    <tr>\n",
       "      <th>0</th>\n",
       "      <td>101</td>\n",
       "      <td>hanzala</td>\n",
       "      <td>Student</td>\n",
       "    </tr>\n",
       "    <tr>\n",
       "      <th>1</th>\n",
       "      <td>102</td>\n",
       "      <td>abhi</td>\n",
       "      <td>data analyst</td>\n",
       "    </tr>\n",
       "    <tr>\n",
       "      <th>2</th>\n",
       "      <td>103</td>\n",
       "      <td>salman</td>\n",
       "      <td>actor</td>\n",
       "    </tr>\n",
       "    <tr>\n",
       "      <th>3</th>\n",
       "      <td>104</td>\n",
       "      <td>leo</td>\n",
       "      <td>CA</td>\n",
       "    </tr>\n",
       "  </tbody>\n",
       "</table>\n",
       "</div>"
      ],
      "text/plain": [
       "    ID     Name    Profession\n",
       "0  101  hanzala       Student\n",
       "1  102     abhi  data analyst\n",
       "2  103   salman         actor\n",
       "3  104      leo            CA"
      ]
     },
     "execution_count": 23,
     "metadata": {},
     "output_type": "execute_result"
    }
   ],
   "source": [
    "df2"
   ]
  }
 ],
 "metadata": {
  "kernelspec": {
   "display_name": "Python 3 (ipykernel)",
   "language": "python",
   "name": "python3"
  },
  "language_info": {
   "codemirror_mode": {
    "name": "ipython",
    "version": 3
   },
   "file_extension": ".py",
   "mimetype": "text/x-python",
   "name": "python",
   "nbconvert_exporter": "python",
   "pygments_lexer": "ipython3",
   "version": "3.10.9"
  }
 },
 "nbformat": 4,
 "nbformat_minor": 5
}
