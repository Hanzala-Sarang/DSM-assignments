{
 "cells": [
  {
   "cell_type": "code",
   "execution_count": 1,
   "id": "6834fd10",
   "metadata": {},
   "outputs": [],
   "source": [
    "# Q1. How do you comment code in Python? What are the different types of comments?\n",
    "\n",
    "# to comment the code we use \"#\" \n",
    "# there are two types of comment\n",
    "# 1. single line comment \n",
    "# it is use to comment only single and it is done by hash (#)\n",
    "# 2. multiple line comment\n",
    "# it is use to comment multiple line and it done by three single quote (''''''') or three double quote (\"\"\"\"\"\")\n"
   ]
  },
  {
   "cell_type": "code",
   "execution_count": 2,
   "id": "1e6af3c0",
   "metadata": {},
   "outputs": [],
   "source": [
    "# Q2. What are variables in Python? How do you declare and assign values to variables?\n",
    "\n",
    "# variable in python is store the value and it create a space in memory with variable name\n",
    "# when ever we have to call that value we will call with variable name because it is referencing the value\n",
    "\n",
    "# declaring a variable with name 'var' and assign value 10 to the 'var'\n",
    "var = 10\n"
   ]
  },
  {
   "cell_type": "code",
   "execution_count": 3,
   "id": "f80fd590",
   "metadata": {},
   "outputs": [
    {
     "name": "stdout",
     "output_type": "stream",
     "text": [
      "<class 'int'>\n"
     ]
    }
   ],
   "source": [
    "# Q3. How do you convert one data type to another in Python?\n",
    "\n",
    "# according to the question I will convert 'var' data type which is int now I will convert into string\n",
    "num = '11'\n",
    "num = int(num)\n",
    "print(type(num))\n"
   ]
  },
  {
   "cell_type": "code",
   "execution_count": null,
   "id": "cd402483",
   "metadata": {},
   "outputs": [],
   "source": [
    "# Q4. How do you write and execute a Python script from the command line?\n",
    "\n",
    "# first we have to write 'python' and 'filename' with extension\n",
    "# and it is compulsory to present in a directory where file is present\n",
    "# here is a example\n",
    "\n",
    "# python filename.extension"
   ]
  },
  {
   "cell_type": "code",
   "execution_count": 4,
   "id": "a8123cf4",
   "metadata": {},
   "outputs": [
    {
     "name": "stdout",
     "output_type": "stream",
     "text": [
      "[2, 3]\n"
     ]
    }
   ],
   "source": [
    "# Q5. Given a list my_list = [1, 2, 3, 4, 5], write the code to slice the list and obtain the sub-list [2, 3].\n",
    "\n",
    "my_list = [1, 2, 3, 4, 5]\n",
    "sub_list = my_list[1:3]\n",
    "print(sub_list)"
   ]
  },
  {
   "cell_type": "code",
   "execution_count": null,
   "id": "0421d81b",
   "metadata": {},
   "outputs": [],
   "source": [
    "# Q6. What is a complex number in mathematics, and how is it represented in Python?\n",
    "\n",
    "# complex number in maths is combination of real number and imaginary number\n",
    "# for example 3 + 4i\n",
    "\n",
    "# but in python it is represented with little changes \n",
    "# In maths 'i' is use in imaginary part and In python 'j' is use in imaginary part\n",
    "# for example 5 + 8j"
   ]
  },
  {
   "cell_type": "code",
   "execution_count": 5,
   "id": "dfa399f9",
   "metadata": {},
   "outputs": [],
   "source": [
    "# Q7. What is the correct way to declare a variable named age and assign the value 25 to it?\n",
    "\n",
    "age = 25\n"
   ]
  },
  {
   "cell_type": "code",
   "execution_count": null,
   "id": "a5f77d79",
   "metadata": {},
   "outputs": [],
   "source": [
    "# Q8. Declare a variable named price and assign the value 9.99 to it. What data type does this variable\n",
    "#     belong to?\n",
    "\n",
    "# price data type is belong to float (floating points)\n",
    "price = 9.99"
   ]
  },
  {
   "cell_type": "code",
   "execution_count": 6,
   "id": "7b3ed44c",
   "metadata": {},
   "outputs": [
    {
     "name": "stdout",
     "output_type": "stream",
     "text": [
      "my full name is Hanzala Sarang\n"
     ]
    }
   ],
   "source": [
    "# Q9. Create a variable named name and assign your full name to it as a string. How would you print the\n",
    "#     value of this variable?\n",
    "\n",
    "name = 'Hanzala Sarang'\n",
    "print(f\"my full name is {name}\")\n"
   ]
  },
  {
   "cell_type": "code",
   "execution_count": 7,
   "id": "9f7ae180",
   "metadata": {},
   "outputs": [
    {
     "name": "stdout",
     "output_type": "stream",
     "text": [
      "World\n"
     ]
    }
   ],
   "source": [
    "# Q10. Given the string \"Hello, World!\", extract the substring \"World\".\n",
    "\n",
    "hw = 'Hello, World!'\n",
    "print(hw[7:-1])"
   ]
  },
  {
   "cell_type": "code",
   "execution_count": null,
   "id": "72900d02",
   "metadata": {},
   "outputs": [],
   "source": [
    "# Q11. Create a variable named \"is_student\" and assign it a boolean value indicating whether you are\n",
    "#      currently a student or not.\n",
    "\n",
    "is_student = True"
   ]
  }
 ],
 "metadata": {
  "kernelspec": {
   "display_name": "Python 3 (ipykernel)",
   "language": "python",
   "name": "python3"
  },
  "language_info": {
   "codemirror_mode": {
    "name": "ipython",
    "version": 3
   },
   "file_extension": ".py",
   "mimetype": "text/x-python",
   "name": "python",
   "nbconvert_exporter": "python",
   "pygments_lexer": "ipython3",
   "version": "3.10.9"
  }
 },
 "nbformat": 4,
 "nbformat_minor": 5
}
