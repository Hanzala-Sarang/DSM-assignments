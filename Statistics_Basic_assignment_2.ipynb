{
 "cells": [
  {
   "cell_type": "markdown",
   "id": "dadc476e",
   "metadata": {},
   "source": [
    "# Statistics Basic Assignment"
   ]
  },
  {
   "cell_type": "markdown",
   "id": "425103d1",
   "metadata": {},
   "source": [
    "### Q1. What are the three measures of central tendency?"
   ]
  },
  {
   "cell_type": "markdown",
   "id": "ff20d202",
   "metadata": {},
   "source": [
    "Mean: The mean is often referred to as the \"average.\" It is calculated by summing up all the values in the dataset and then dividing by the total number of values. The mean can be affected by extreme values, also known as outliers, since it considers all values equally.\n",
    "\n",
    "Median: The median is the middle value in a dataset when the data is arranged in order. If there is an odd number of values, the median is the middle value itself. If there's an even number of values, the median is the average of the two middle values. The median is less sensitive to outliers compared to the mean, making it a better measure of central tendency when the data contains extreme values.\n",
    "\n",
    "Mode: The mode is the value that appears most frequently in a dataset. A dataset can have one mode (unimodal), two modes (bimodal), or more (multimodal). The mode can be particularly useful for categorical or discrete data, but it's also applicable to continuous data."
   ]
  },
  {
   "cell_type": "markdown",
   "id": "c94c2394",
   "metadata": {},
   "source": [
    "### Q2. What is the difference between the mean, median, and mode? How are they used to measure the central tendency of a dataset?"
   ]
  },
  {
   "cell_type": "markdown",
   "id": "522034d2",
   "metadata": {},
   "source": [
    "Mean:\n",
    "\n",
    "The mean is the arithmetic average of all the values in a dataset.\n",
    "It is calculated by adding up all the values and then dividing by the total number of values.\n",
    "The mean can be sensitive to extreme values (outliers) that can significantly affect its value.\n",
    "It's commonly used when the data has a symmetrical distribution, such as the normal distribution.\n",
    "Median:\n",
    "\n",
    "The median is the middle value of a dataset when it's arranged in order.\n",
    "If there's an odd number of values, the median is the middle value itself.\n",
    "If there's an even number of values, the median is the average of the two middle values.\n",
    "The median is less affected by extreme values and outliers compared to the mean, making it a good choice for skewed data or when you want to mitigate the influence of outliers.\n",
    "Mode:\n",
    "\n",
    "The mode is the value that appears most frequently in a dataset.\n",
    "A dataset can have one mode (unimodal), two modes (bimodal), or more (multimodal).\n",
    "The mode is particularly useful for categorical or discrete data, where the concept of middle value might not apply.\n",
    "It's often used to describe the most common outcome or observation in a dataset.\n",
    "In summary, these measures capture different aspects of the central tendency in a dataset:\n",
    "\n",
    "Use the mean when you want a balanced measure that considers all values equally and when the data is relatively symmetric.\n",
    "\n",
    "Use the median when you want a measure that's less sensitive to outliers and when the data is skewed or contains extreme values.\n",
    "\n",
    "Use the mode when you want to identify the most frequent value or category in the data."
   ]
  },
  {
   "cell_type": "markdown",
   "id": "0b057828",
   "metadata": {},
   "source": [
    "### Q3. Measure the three measures of central tendency for the given height data:\n",
    "[178,177,176,177,178.2,178,175,179,180,175,178.9,176.2,177,172.5,178,176.5]"
   ]
  },
  {
   "cell_type": "code",
   "execution_count": 1,
   "id": "71b9a984",
   "metadata": {},
   "outputs": [],
   "source": [
    "h_data = [178,177,176,177,178.2,178,175,179,180,175,178.9,176.2,177,172.5,178,176.5]"
   ]
  },
  {
   "cell_type": "code",
   "execution_count": 2,
   "id": "d4f5d4b6",
   "metadata": {},
   "outputs": [
    {
     "data": {
      "text/plain": [
       "177.01875"
      ]
     },
     "execution_count": 2,
     "metadata": {},
     "output_type": "execute_result"
    }
   ],
   "source": [
    "import numpy as np\n",
    "np.mean(h_data)"
   ]
  },
  {
   "cell_type": "code",
   "execution_count": 3,
   "id": "2fb9c096",
   "metadata": {},
   "outputs": [
    {
     "data": {
      "text/plain": [
       "177.0"
      ]
     },
     "execution_count": 3,
     "metadata": {},
     "output_type": "execute_result"
    }
   ],
   "source": [
    "np.median(h_data)"
   ]
  },
  {
   "cell_type": "code",
   "execution_count": 4,
   "id": "776c4f48",
   "metadata": {},
   "outputs": [
    {
     "data": {
      "text/plain": [
       "178"
      ]
     },
     "execution_count": 4,
     "metadata": {},
     "output_type": "execute_result"
    }
   ],
   "source": [
    "import statistics\n",
    "statistics.mode(h_data)"
   ]
  },
  {
   "cell_type": "markdown",
   "id": "dc76fb36",
   "metadata": {},
   "source": [
    "### Q4. Find the standard deviation for the given data:"
   ]
  },
  {
   "cell_type": "code",
   "execution_count": 5,
   "id": "d639a4c8",
   "metadata": {},
   "outputs": [],
   "source": [
    "data = [178,177,176,177,178.2,178,175,179,180,175,178.9,176.2,177,172.5,178,176.5]"
   ]
  },
  {
   "cell_type": "code",
   "execution_count": 6,
   "id": "686627ec",
   "metadata": {},
   "outputs": [
    {
     "data": {
      "text/plain": [
       "1.7885814036548633"
      ]
     },
     "execution_count": 6,
     "metadata": {},
     "output_type": "execute_result"
    }
   ],
   "source": [
    "np.std(data)"
   ]
  },
  {
   "cell_type": "markdown",
   "id": "59ddf512",
   "metadata": {},
   "source": [
    "### Q5. How are measures of dispersion such as range, variance, and standard deviation used to describe the spread of a dataset? Provide an example."
   ]
  },
  {
   "cell_type": "markdown",
   "id": "996c059a",
   "metadata": {},
   "source": [
    "\n",
    "Measures of dispersion are used to describe the spread of a dataset. They measure how far apart the data points are from each other. The most common measures of dispersion are:\n",
    "\n",
    "Range: The range is the difference between the largest and smallest values in the dataset. It is the simplest measure of dispersion, but it is not very sensitive to outliers.\n",
    "\n",
    "Variance: The variance is the average squared deviation from the mean. It is a more robust measure of dispersion than the range, but it is also more difficult to interpret.\n",
    "\n",
    "Standard deviation: The standard deviation is the square root of the variance. It is the most commonly used measure of dispersion because it is easy to interpret and it is relatively insensitive to outliers.\n",
    "\n",
    "Here is an example. Let's say we have the following data set:\n",
    "\n",
    "1, 2, 3, 4, 5, 6, 7, 8, 9, 10\n",
    "\n",
    "The range of this data set is 9 (10 - 1). The variance is 3.29 (sum of (each data point - mean)^2 / 10). The standard deviation is 1.8 (square root of the variance).\n",
    "\n",
    "The range tells us that the data points in this set are spread out over a range of 9 values. The variance tells us that the data points are, on average, 3.29 away from the mean. The standard deviation tells us that the data points are, on average, 1.8 away from the mean.\n",
    "\n",
    "In general, a larger value of any of these measures of dispersion indicates that the data points are more spread out. A smaller value indicates that the data points are more tightly clustered together."
   ]
  },
  {
   "cell_type": "markdown",
   "id": "96c260f6",
   "metadata": {},
   "source": [
    "### Q6. What is a Venn diagram?"
   ]
  },
  {
   "cell_type": "markdown",
   "id": "c6584ab9",
   "metadata": {},
   "source": [
    "A Venn diagram is a visual representation used to illustrate the relationships between different sets or groups of items. It consists of overlapping circles (or sometimes other shapes) that are used to represent these sets, and the overlapping regions show the intersections or common elements between the sets.\n",
    "\n",
    "The purpose of a Venn diagram is to provide a clear and intuitive way to understand the relationships and commonalities between different sets of data or concepts. Each circle in the diagram represents a separate set, and the areas where the circles overlap represent the elements that belong to both sets. The areas that do not overlap represent the elements unique to each set."
   ]
  },
  {
   "cell_type": "markdown",
   "id": "8b5371b2",
   "metadata": {},
   "source": [
    "### Q7. For the two given sets A = (2,3,4,5,6,7) & B = (0,2,6,8,10). Find:\n",
    "(i) A ∩ B\n",
    "(ii) A ⋃ B"
   ]
  },
  {
   "cell_type": "markdown",
   "id": "3c162abe",
   "metadata": {},
   "source": [
    "A ∩ B = {2}"
   ]
  },
  {
   "cell_type": "markdown",
   "id": "ca071189",
   "metadata": {},
   "source": [
    "A ⋃ B = {0,2,3,4,5,6,7,8,10}"
   ]
  },
  {
   "cell_type": "markdown",
   "id": "add47205",
   "metadata": {},
   "source": [
    "### Q8. What do you understand about skewness in data?"
   ]
  },
  {
   "cell_type": "markdown",
   "id": "966ee177",
   "metadata": {},
   "source": [
    "Skewness is a statistical term that describes the asymmetry or lack of symmetry in the distribution of data points within a dataset. It is an important measure in statistics and data analysis as it helps to understand the shape of the data distribution.\n",
    "\n",
    "There are three main types of skewness:\n",
    "\n",
    "Positive Skewness (Right Skewness):\n",
    "In a positively skewed distribution, the tail on the right side is longer or stretched out, while the bulk of the data points is concentrated on the left side. This indicates that the majority of the data points are smaller, and there are a few large values that pull the mean in the positive direction.\n",
    "\n",
    "Negative Skewness (Left Skewness):\n",
    "In a negatively skewed distribution, the tail on the left side is longer or stretched out, while the majority of data points are concentrated on the right side. This suggests that most of the data points are larger, and there are a few smaller values that pull the mean in the negative direction.\n",
    "\n",
    "No Skewness (Symmetrical Distribution):\n",
    "A symmetrical distribution has equal tails on both sides of the central peak, and the data points are distributed evenly around the mean. This results in a balanced distribution without any skewness."
   ]
  },
  {
   "cell_type": "markdown",
   "id": "44792a20",
   "metadata": {},
   "source": [
    "### Q9. If a data is right skewed then what will be the position of median with respect to mean?"
   ]
  },
  {
   "cell_type": "markdown",
   "id": "c9004e87",
   "metadata": {},
   "source": [
    "In a right skewed distribution, the mean is greater than the median. This is because the mean is affected by outliers, which are data points that are much larger or smaller than the rest of the data. Outliers can pull the mean towards the tail of the distribution, making it larger than the median.\n",
    "\n",
    "The median, on the other hand, is not affected by outliers. It is the middle value of the data set, when all the data is ranked from least to greatest. So, in a right skewed distribution, the median will be located to the left of the mean."
   ]
  },
  {
   "cell_type": "markdown",
   "id": "04c3d24d",
   "metadata": {},
   "source": [
    "### Q10. Explain the difference between covariance and correlation. How are these measures used in statistical analysis?"
   ]
  },
  {
   "cell_type": "markdown",
   "id": "596becf0",
   "metadata": {},
   "source": [
    "Covariance and correlation are both measures used in statistics to quantify the relationship between two variables. They provide insights into how changes in one variable are associated with changes in another variable. While they are related concepts, they have distinct characteristics and purposes.\n",
    "\n",
    "Covariance:\n",
    "Covariance measures the extent to which two variables change together. It indicates the direction of the linear relationship between the variables. A positive covariance suggests that when one variable increases, the other variable tends to increase as well. A negative covariance suggests that when one variable increases, the other variable tends to decrease. However, covariance doesn't provide a standardized measure of the strength of the relationship and is sensitive to the units of measurement of the variables.\n",
    "\n",
    "Correlation:\n",
    "Correlation measures the strength and direction of the linear relationship between two variables, and it's a standardized measure that ranges between -1 and 1. A correlation of +1 indicates a perfect positive linear relationship, a correlation of -1 indicates a perfect negative linear relationship, and a correlation close to 0 suggests a weak or no linear relationship. Correlation is unitless and helps compare the strength of relationships between variables with different units.\n",
    "\n",
    "Usage in Statistical Analysis:\n",
    "\n",
    "Covariance: Covariance is used to identify whether changes in one variable tend to occur at the same time as changes in another variable. It's used in portfolio management, finance, and risk assessment to analyze relationships between different assets' returns.\n",
    "\n",
    "Correlation: Correlation is widely used to quantify the strength of relationships between variables. It's used in fields such as economics, social sciences, and engineering to study cause-and-effect relationships, make predictions, and assess the quality of data. Correlation is also a key concept in data analysis and regression modeling."
   ]
  },
  {
   "cell_type": "markdown",
   "id": "47307ced",
   "metadata": {},
   "source": [
    "### Q11. What is the formula for calculating the sample mean? Provide an example calculation for a dataset."
   ]
  },
  {
   "cell_type": "markdown",
   "id": "dce48a87",
   "metadata": {},
   "source": [
    "X̄ = (Σ xi) / n"
   ]
  },
  {
   "cell_type": "markdown",
   "id": "a9188db9",
   "metadata": {},
   "source": [
    "# Example:\n",
    "Consider a dataset of exam scores: 85, 90, 78, 92, 88.\n",
    "\n",
    "To calculate the sample mean:\n",
    "\n",
    "Add up all the individual data points: \n",
    "85+90+78+92+88=433\n",
    "\n",
    "Count the number of data points: \n",
    "n=5.\n",
    "Divide the sum by the number of data points: \n",
    "433/5\n",
    "86.6\n",
    "So, the sample mean for this dataset is \n",
    "86.6."
   ]
  },
  {
   "cell_type": "markdown",
   "id": "ec1c9a92",
   "metadata": {},
   "source": [
    "### Q12. For a normal distribution data what is the relationship between its measure of central tendency?"
   ]
  },
  {
   "cell_type": "markdown",
   "id": "beca7291",
   "metadata": {},
   "source": [
    "In a normal distribution, all three measures of central tendency are equal: the mean, median, and mode. This is because a normal distribution is symmetrical, with the mean, median, and mode all located at the center of the distribution.\n",
    "\n",
    "The mean is the average of all the values in the distribution. The median is the middle value, when all the values are ranked from least to greatest. The mode is the most frequent value in the distribution.\n",
    "\n",
    "In a normal distribution, the mean, median, and mode are all equal because the distribution is symmetrical. This means that there are just as many values above the mean as there are below the mean. There are also just as many values above the median as there are below the median. And there is just one value that appears more often than any other value."
   ]
  },
  {
   "cell_type": "markdown",
   "id": "258c37c5",
   "metadata": {},
   "source": [
    "### Q13. How is covariance different from correlation?"
   ]
  },
  {
   "cell_type": "markdown",
   "id": "c5f81af3",
   "metadata": {},
   "source": [
    "Covariance and correlation are related concepts that both describe the relationship between two variables, but they have different characteristics and interpretations. Here's how they differ:\n",
    "\n",
    "1. Definition:\n",
    "\n",
    "Covariance: Covariance measures the degree to which two variables change together. It indicates whether the variables tend to increase or decrease at the same time. A positive covariance suggests a positive relationship, while a negative covariance suggests a negative relationship.\n",
    "Correlation: Correlation measures the strength and direction of the linear relationship between two variables. It provides a standardized measure that ranges between -1 (perfect negative correlation) and 1 (perfect positive correlation).\n",
    "\n",
    "2. Units:\n",
    "\n",
    "Covariance: Covariance is not standardized and is affected by the units of the variables. As a result, it's not directly comparable across different datasets or variables.\n",
    "Correlation: Correlation is unitless and is not affected by the units of the variables. This makes it suitable for comparing relationships between variables with different units.\n",
    "\n",
    "3. Range:\n",
    "\n",
    "Covariance: Covariance values have no specific range, which can make it difficult to interpret the strength of the relationship.\n",
    "Correlation: Correlation values range between -1 and 1. A correlation of +1 indicates a perfect positive linear relationship, -1 indicates a perfect negative linear relationship, and 0 indicates no linear relationship.\n",
    "\n",
    "4. Interpretation:\n",
    "\n",
    "Covariance: Covariance alone doesn't provide a clear indication of the strength of the relationship or whether it's significant.\n",
    "Correlation: Correlation not only indicates the direction but also provides a measure of the strength of the linear relationship between the variables. It's easier to interpret: a correlation close to 1 or -1 indicates a strong linear relationship, while a correlation close to 0 indicates a weak or no linear relationship.\n",
    "\n",
    "5. Standardization:\n",
    "\n",
    "Covariance: Covariance isn't standardized, so its magnitude isn't readily interpretable.\n",
    "Correlation: Correlation is standardized and provides a clear indication of the strength of the linear relationship relative to the variability of the variables."
   ]
  },
  {
   "cell_type": "markdown",
   "id": "335950ff",
   "metadata": {},
   "source": [
    "### Q14. How do outliers affect measures of central tendency and dispersion? Provide an example."
   ]
  },
  {
   "cell_type": "markdown",
   "id": "858df8ef",
   "metadata": {},
   "source": [
    "Outliers are data points that deviate significantly from the rest of the data in a dataset. They can have a notable impact on measures of central tendency (such as mean, median, and mode) and measures of dispersion (such as range, variance, and standard deviation). Here's how outliers affect these measures and an example to illustrate:\n",
    "\n",
    "Impact on Measures of Central Tendency:\n",
    "\n",
    "Mean: Outliers can strongly influence the mean because they contribute to the sum of values. A single outlier that is much larger or smaller than the rest of the data can pull the mean in the direction of the outlier.\n",
    "\n",
    "Median: The median is less sensitive to outliers because it's not directly affected by the actual values of the data. However, extreme outliers can still affect the position of the median, especially in small datasets.\n",
    "\n",
    "Mode: The mode may not be greatly affected by outliers, as it's determined by the most frequent value(s) in the data.\n",
    "\n",
    "Impact on Measures of Dispersion:\n",
    "\n",
    "Range: Outliers can significantly increase the range if they are far from the rest of the data points.\n",
    "\n",
    "Variance and Standard Deviation: Outliers can substantially inflate the variance and standard deviation. This is because these measures involve squaring the deviations from the mean, and large deviations (due to outliers) result in even larger squared deviations.\n",
    "\n",
    "Example:\n",
    "\n",
    "Consider a dataset of exam scores: 85, 87, 88, 92, 94, 96, 100, 102, 110, 250.\n",
    "\n",
    "In this example, the value \"250\" is an outlier, as it is much larger than the other scores. Let's see how the outliers affect measures of central tendency and dispersion:\n",
    "\n",
    "Mean: The mean without the outlier is \n",
    "(85+87+88+92+94+96+100+102+110)/9≈95.44. With the outlier, the mean becomes \n",
    "\n",
    "(85+87+88+92+94+96+100+102+110+250)/10≈102.4.\n",
    "Median: The median without the outlier is the middle value, which is 96. With the outlier, the median remains the same because it's not directly affected by the magnitude of the values.\n",
    "Range: Without the outlier, the range is \n",
    "110−85=25. With the outlier, the range becomes \n",
    "165\n",
    "250−85=165.\n",
    "Standard Deviation: Without the outlier, the standard deviation is approximately 7.52. With the outlier, the standard deviation increases to approximately 49.97."
   ]
  },
  {
   "cell_type": "code",
   "execution_count": null,
   "id": "1809c9c4",
   "metadata": {},
   "outputs": [],
   "source": []
  }
 ],
 "metadata": {
  "kernelspec": {
   "display_name": "Python 3 (ipykernel)",
   "language": "python",
   "name": "python3"
  },
  "language_info": {
   "codemirror_mode": {
    "name": "ipython",
    "version": 3
   },
   "file_extension": ".py",
   "mimetype": "text/x-python",
   "name": "python",
   "nbconvert_exporter": "python",
   "pygments_lexer": "ipython3",
   "version": "3.10.9"
  }
 },
 "nbformat": 4,
 "nbformat_minor": 5
}
