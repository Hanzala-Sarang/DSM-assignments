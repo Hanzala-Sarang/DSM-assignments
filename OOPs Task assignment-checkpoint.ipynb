{
 "cells": [
  {
   "cell_type": "code",
   "execution_count": 15,
   "id": "d0988750",
   "metadata": {},
   "outputs": [
    {
     "data": {
      "text/plain": [
       "('ola', 100, '40km')"
      ]
     },
     "execution_count": 15,
     "metadata": {},
     "output_type": "execute_result"
    }
   ],
   "source": [
    "# Q1, Create a vehicle class with an init method having instance variables as name_of_vehicle, max_speed\n",
    "#     and average_of_vehicle.\n",
    "\n",
    "class Vehicle:\n",
    "    def __init__(self,name_of_vehicle,max_speed,average_of_vehicle):\n",
    "        self.name_of_vehicle = name_of_vehicle\n",
    "        self.max_speed = max_speed \n",
    "        self.average_of_vehicle = average_of_vehicle\n",
    "        \n",
    "    def display_details(self):\n",
    "        return self.name_of_vehicle,self.max_speed,self.average_of_vehicle\n",
    "    \n",
    "vehicle = Vehicle('ferrari',120,'20km')\n",
    "vehicle.display_details()"
   ]
  },
  {
   "cell_type": "code",
   "execution_count": 23,
   "id": "84b9aced",
   "metadata": {},
   "outputs": [
    {
     "data": {
      "text/plain": [
       "('4', 'ola', 70, '20km')"
      ]
     },
     "execution_count": 23,
     "metadata": {},
     "output_type": "execute_result"
    }
   ],
   "source": [
    "'''Q2. Create a child class car from the vehicle class created in Que 1, which will inherit the vehicle class.\n",
    "Create a method named seating_capacity which takes capacity as an argument and returns the name of\n",
    "the vehicle and its seating capacity.'''\n",
    "\n",
    "class Car(Vehicle):\n",
    "    def seating_capacity(self,capacity):\n",
    "        self.capacity = capacity\n",
    "        return self.capacity,self.name_of_vehicle,self.max_speed,self.average_of_vehicle\n",
    "    \n",
    "car = Car('ola',70,'20km')\n",
    "car.seating_capacity('4')\n",
    "        "
   ]
  },
  {
   "cell_type": "code",
   "execution_count": 25,
   "id": "0fd20d3d",
   "metadata": {},
   "outputs": [
    {
     "name": "stdout",
     "output_type": "stream",
     "text": [
      "I am parent1\n",
      "I am parent2\n"
     ]
    }
   ],
   "source": [
    "# Q3. What is multiple inheritance? Write a python code to demonstrate multiple inheritance.\n",
    "\n",
    "# multiple inheritance means there is two parent class and one child class inherits both the class\n",
    "\n",
    "class Parent1:\n",
    "    def displayP1(self):\n",
    "        print(\"I am parent1\")\n",
    "class Parent2:\n",
    "    def displayP2(self):\n",
    "        print(\"I am parent2\")\n",
    "class Child(Parent1,Parent2):\n",
    "    pass\n",
    "\n",
    "child = Child()\n",
    "child.displayP1()\n",
    "child.displayP2()"
   ]
  },
  {
   "cell_type": "code",
   "execution_count": 31,
   "id": "7bd43353",
   "metadata": {},
   "outputs": [
    {
     "data": {
      "text/plain": [
       "'hanzala'"
      ]
     },
     "execution_count": 31,
     "metadata": {},
     "output_type": "execute_result"
    }
   ],
   "source": [
    "# Q4. What are getter and setter in python? Create a class and create a getter and a setter method in this\n",
    "#     class.\n",
    "\n",
    "# getter method is use to get the properties which is private and protected\n",
    "# setter method is use to set the properties which is private and protected\n",
    "\n",
    "class Name:\n",
    "    def __init__(self):\n",
    "        self.__name = 'han'\n",
    "        \n",
    "    def set_name(self,name):\n",
    "        self.__name = name \n",
    "    def get_name(self):\n",
    "        return self.__name\n",
    "\n",
    "han = Name()\n",
    "han.set_name('hanzala')\n",
    "han.get_name()"
   ]
  },
  {
   "cell_type": "code",
   "execution_count": 45,
   "id": "66a88fb2",
   "metadata": {},
   "outputs": [
    {
     "name": "stdout",
     "output_type": "stream",
     "text": [
      "this is a ferrari car\n"
     ]
    }
   ],
   "source": [
    "# Q5.What is method overriding in python? Write a python code to demonstrate method overriding.\n",
    "\n",
    "# method overriding is a concept of object-oriented-programming, when parent class\n",
    "# and child class have same name method and when we make object of child class\n",
    "# and call the method then class method overrides the parent method \n",
    "\n",
    "class Car:\n",
    "    def display(self):\n",
    "        print(f\"this is {car}\")\n",
    "        \n",
    "class Car2(Car):\n",
    "    def display(self,car):\n",
    "        print(f\"this is a {car} car\")\n",
    "        \n",
    "c2 = Car2()\n",
    "c2.display('ferrari')\n",
    "        \n",
    "    \n",
    "        "
   ]
  },
  {
   "cell_type": "code",
   "execution_count": null,
   "id": "7656b533",
   "metadata": {},
   "outputs": [],
   "source": []
  },
  {
   "cell_type": "code",
   "execution_count": null,
   "id": "10e2b643",
   "metadata": {},
   "outputs": [],
   "source": []
  }
 ],
 "metadata": {
  "kernelspec": {
   "display_name": "Python 3 (ipykernel)",
   "language": "python",
   "name": "python3"
  },
  "language_info": {
   "codemirror_mode": {
    "name": "ipython",
    "version": 3
   },
   "file_extension": ".py",
   "mimetype": "text/x-python",
   "name": "python",
   "nbconvert_exporter": "python",
   "pygments_lexer": "ipython3",
   "version": "3.10.9"
  }
 },
 "nbformat": 4,
 "nbformat_minor": 5
}
